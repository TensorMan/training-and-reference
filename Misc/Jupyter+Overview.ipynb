{
 "cells": [
  {
   "cell_type": "markdown",
   "metadata": {
    "collapsed": true
   },
   "source": [
    "# Jupyter Notebook \n",
    "\n",
    "\n",
    "Jupyter notebooks is a webapplication which allows you to easily share documents that contain live code. This code can be run from the notebook itself.\n",
    "\n",
    "We will cover the following:\n",
    "\n",
    "- Interface Overview\n",
    "- Jupyter Shortcuts\n",
    "- Markdown\n",
    "- Latex\n",
    "- HTML\n",
    "- Embedded Video\n",
    "\n",
    "\n",
    "<font color='red'> Cells with markdown code need to be switched to **Markdown** to show effects. \n",
    "\n",
    "Select a cell (by clicking the blank space on the left of the cell) and press M\n",
    "![MarkdownImage2](http://image.prntscr.com/image/3feeb0b51a2b4772ab2b6b60dbb74956.png)\n",
    " \n",
    " \n",
    " or change through tool bar </font>:\n",
    "![MarkdownImage](http://image.prntscr.com/image/13ecc372a7fe41f796a7bd6edea3cdaa.png)\n",
    "\n"
   ]
  },
  {
   "cell_type": "markdown",
   "metadata": {},
   "source": []
  },
  {
   "cell_type": "markdown",
   "metadata": {},
   "source": [
    "# 1. Notebook Shortcuts\n",
    "|Shortcut | Description |\n",
    "|:--|:--|\n",
    "|Shift + Enter| Run cell and select below|\n",
    "|Alt + Enter | Run cell and insert below |\n",
    "|Ctrl + Enter | Run cell|\n",
    "|D D | Delete selected cell|\n",
    "|Z | Undo last cell deletion|\n",
    "|C| Copy selected cell\n",
    "|V| Paste cell below|\n",
    "|Shift + V | Paste cell above|\n",
    "|Y| Convert to code cell|\n",
    "|M| Convert to markdown cell|\n",
    "|R| Convert to raw cell|\n",
    "\n",
    "There are many more (which you can find [here]('https://www.cheatography.com/weidadeyue/cheat-sheets/jupyter-notebook/')) but the above are the ones i find most used\n",
    "\n",
    "# 2. **Restarting the Kernal**\n",
    "\n",
    "When you run code everything gets saved in memory, sometimes you'll need to clear it \n",
    "\n",
    "You can do this by going to **__Kernal > Restart__** \n",
    "\n",
    "or **__Kernal > Restart & Run All__** if you want to execute your notebook immediately"
   ]
  },
  {
   "cell_type": "markdown",
   "metadata": {},
   "source": [
    "# 3. Formatting"
   ]
  },
  {
   "cell_type": "markdown",
   "metadata": {},
   "source": [
    "## Headings\n",
    "Headings are done using **#** Symbol(s). Single hash represents 1st level heading , double hash represents 2nd level heading etc..\n",
    "\n",
    "You can also use **==** or **--** (1st lvl and 2nd lvl respectively) \n"
   ]
  },
  {
   "cell_type": "code",
   "execution_count": null,
   "metadata": {
    "collapsed": true
   },
   "outputs": [],
   "source": [
    "Example Code:\n",
    "\n",
    "Heading 1\n",
    "==\n",
    "Heading 2\n",
    "--\n",
    "\n",
    "## H1\n",
    "### H2\n",
    "#### H3"
   ]
  },
  {
   "cell_type": "markdown",
   "metadata": {},
   "source": [
    "## Bold\n",
    "\n",
    "Use double asterisk for **bold** "
   ]
  },
  {
   "cell_type": "code",
   "execution_count": null,
   "metadata": {
    "collapsed": true
   },
   "outputs": [],
   "source": [
    "**This is a bolded sentence**"
   ]
  },
  {
   "cell_type": "markdown",
   "metadata": {},
   "source": [
    "## Italics\n",
    "Use single asterisk for *Italics*"
   ]
  },
  {
   "cell_type": "code",
   "execution_count": null,
   "metadata": {
    "collapsed": true
   },
   "outputs": [],
   "source": [
    "Look at the *Italics!*"
   ]
  },
  {
   "cell_type": "markdown",
   "metadata": {},
   "source": [
    "## Scratched Text\n",
    "Use double **~** for ~~Scratched~~ Text"
   ]
  },
  {
   "cell_type": "code",
   "execution_count": null,
   "metadata": {
    "collapsed": true
   },
   "outputs": [],
   "source": [
    "~~Scratch my back~~ "
   ]
  },
  {
   "cell_type": "markdown",
   "metadata": {},
   "source": [
    "## Lists\n",
    "Use **single dash** for unordered lists and **numbers** for ordered. \n",
    "Spaces signify sublists."
   ]
  },
  {
   "cell_type": "code",
   "execution_count": null,
   "metadata": {
    "collapsed": true
   },
   "outputs": [],
   "source": [
    " - Unordered List_2\n",
    "  - sub_A\n",
    "   - sub_B\n",
    " - Unordered List_1\n",
    "  \n",
    "1. Ordered list_1\n",
    "    1. Sub\n",
    "    2. Sub\n",
    "        2. Sub\n",
    "2. Ordered list_2"
   ]
  },
  {
   "cell_type": "markdown",
   "metadata": {},
   "source": [
    "## Quotes\n",
    "Use **>** for quotes"
   ]
  },
  {
   "cell_type": "code",
   "execution_count": null,
   "metadata": {
    "collapsed": true
   },
   "outputs": [],
   "source": [
    "> Hello\n",
    ">>World"
   ]
  },
  {
   "cell_type": "markdown",
   "metadata": {},
   "source": [
    "## Links\n",
    " This is how to create [label] (fakeurl)\n",
    " "
   ]
  },
  {
   "cell_type": "code",
   "execution_count": null,
   "metadata": {
    "collapsed": true
   },
   "outputs": [],
   "source": [
    " [Google](www.google.com)"
   ]
  },
  {
   "cell_type": "markdown",
   "metadata": {},
   "source": [
    "## Images\n",
    "Similar to links\n",
    "![label] (image url)"
   ]
  },
  {
   "cell_type": "markdown",
   "metadata": {},
   "source": [
    "![googleimage](https://www.google.co.uk/images/branding/googlelogo/2x/googlelogo_color_272x92dp.png)"
   ]
  },
  {
   "cell_type": "markdown",
   "metadata": {},
   "source": [
    "## Tables\n",
    "\n",
    "The table format is shown below. The colons signify how the columns should be justified:\n",
    "- Left justified **-:**\n",
    "- Centered **:-:**\n",
    "- Right justified **-:**"
   ]
  },
  {
   "cell_type": "code",
   "execution_count": null,
   "metadata": {
    "collapsed": true
   },
   "outputs": [],
   "source": [
    "| Tables        | Are           | Cool  |\n",
    "| ------------- |:-------------:| -----:|\n",
    "| col 3 is      | right-aligned |  1600 |\n",
    "| col 2 is      | centered      |    12 |\n",
    "| zebra stripes | are neat      |     1 |"
   ]
  },
  {
   "cell_type": "markdown",
   "metadata": {},
   "source": [
    "# 4. LaTeX\n",
    "\n",
    "A large mathematical type set language for scientific/mathematical doucmentation.\n",
    "\n",
    "- [Latex Wiki](http://en.wikibooks.org/wiki/LaTeX/Mathematics)\n",
    "- [Equation Cheat Sheet](http://www.equationsheet.com/): Has a number of examples to copy and paste, you'll need to wrap the examples in $ in Jupyter"
   ]
  },
  {
   "cell_type": "raw",
   "metadata": {},
   "source": [
    "LaTex inline: $y = x^2$\n",
    "\n",
    "LaTex in block: $$y = x^2$$"
   ]
  },
  {
   "cell_type": "markdown",
   "metadata": {},
   "source": [
    "### Operators"
   ]
  },
  {
   "cell_type": "raw",
   "metadata": {
    "collapsed": true
   },
   "source": [
    "- Add:\n",
    " - ${x + y}$\n",
    "- Subtract:\n",
    " - $x - y$\n",
    "- Multiply\n",
    " - $x * y$\n",
    " - $x \\times y$ \n",
    " - $x . y$ \n",
    "- Divide\n",
    " - $x / y$\n",
    " - $x \\div y$\n",
    " - $\\frac{x}{y}$"
   ]
  },
  {
   "cell_type": "markdown",
   "metadata": {},
   "source": [
    "- Add:\n",
    " - $x + y$\n",
    "- Subtract:\n",
    " - $x - y$\n",
    "- Multiply\n",
    " - $x * y$\n",
    " - $x \\times y$ \n",
    " - $x . y$ \n",
    "- Divide\n",
    " - $x / y$\n",
    " - $x \\div y$\n",
    " - $\\frac{x}{y}$"
   ]
  },
  {
   "cell_type": "markdown",
   "metadata": {},
   "source": [
    "### Fractions"
   ]
  },
  {
   "cell_type": "raw",
   "metadata": {
    "collapsed": true
   },
   "source": [
    "$^1/_2$\n",
    "\n",
    "$\\frac{1}{2x}$\n",
    "\n",
    "${3 \\over 4}$"
   ]
  },
  {
   "cell_type": "markdown",
   "metadata": {},
   "source": [
    "$^1/_2$\n",
    "\n",
    "$\\frac{1}{2x}$\n",
    "\n",
    "${3 \\over 4}"
   ]
  },
  {
   "cell_type": "markdown",
   "metadata": {},
   "source": [
    "### Relations"
   ]
  },
  {
   "cell_type": "raw",
   "metadata": {
    "collapsed": true
   },
   "source": [
    "$\\pi \\approx 3.14159$\n",
    "\n",
    "${1 \\over 0} \\neq \\inf$\n",
    "\n",
    "$0 < x > 1$\n",
    "\n",
    "$0 \\leq x \\geq 1$"
   ]
  },
  {
   "cell_type": "markdown",
   "metadata": {},
   "source": [
    "$\\pi \\approx 3.14159$\n",
    "\n",
    "${1 \\over 0} \\neq \\inf$\n",
    "\n",
    "$0 < x > 1$\n",
    "\n",
    "$0 \\leq x \\geq 1$"
   ]
  },
  {
   "cell_type": "markdown",
   "metadata": {},
   "source": [
    "### Advanced Examples\n",
    "\n",
    "$CVA = E^Q[L^*] = (1-R)\\int_0^T E^Q\\left[\\frac{B_0}{B_t} E(t)|\\tau=t\\right] dPD(0,t) $\n",
    "\n",
    "$\\Large P_{fix} = \\sum_{n=1}^{N} {R*\\alpha_{i-1,i}*Di}$"
   ]
  },
  {
   "cell_type": "markdown",
   "metadata": {},
   "source": [
    "## 5. HTML\n",
    "\n",
    "HTML can be directly embedded into Markdown cells. You can use this to change font colours and fully customize content in your notebook."
   ]
  },
  {
   "cell_type": "markdown",
   "metadata": {},
   "source": []
  },
  {
   "cell_type": "code",
   "execution_count": null,
   "metadata": {
    "collapsed": true
   },
   "outputs": [],
   "source": [
    "<div style=\"background-color:black;color:white;padding:20px;\">\n",
    "  <h2>London</h2>\n",
    "  <p>London is the capital city of England. It is the most populous city in the United Kingdom, with a metropolitan area of over 13 million inhabitants.</p>\n",
    "</div>\n",
    "\n"
   ]
  },
  {
   "cell_type": "markdown",
   "metadata": {},
   "source": [
    "<div style=\"background-color:black;color:white;padding:20px;\">\n",
    "  <h2>London</h2>\n",
    "  <p>London is the capital city of England. It is the most populous city in the United Kingdom, with a metropolitan area of over 13 million inhabitants.</p>\n",
    "</div>\n"
   ]
  },
  {
   "cell_type": "code",
   "execution_count": null,
   "metadata": {
    "collapsed": true
   },
   "outputs": [],
   "source": [
    "<font color ='red'> Red </font>\n",
    "<font color ='orange'> Red </font>\n",
    "<font color ='green'> Red </font>"
   ]
  },
  {
   "cell_type": "markdown",
   "metadata": {},
   "source": [
    "<font color ='red'> Red </font>\n",
    "<font color ='orange'> Red </font>\n",
    "<font color ='green'> Red </font>"
   ]
  },
  {
   "cell_type": "markdown",
   "metadata": {},
   "source": [
    "# 6. Embed Videos\n",
    "\n",
    "Jupyter has a in-built class that which allows users to embed YouTube videos. This can be useful for visual explanations of concepts which are being implemented."
   ]
  },
  {
   "cell_type": "code",
   "execution_count": 1,
   "metadata": {
    "collapsed": false
   },
   "outputs": [
    {
     "data": {
      "text/html": [
       "\n",
       "        <iframe\n",
       "            width=\"400\"\n",
       "            height=\"300\"\n",
       "            src=\"https://www.youtube.com/embed/\"\n",
       "            frameborder=\"0\"\n",
       "            allowfullscreen\n",
       "        ></iframe>\n",
       "        "
      ],
      "text/plain": [
       "<IPython.lib.display.YouTubeVideo at 0x2464198>"
      ]
     },
     "execution_count": 1,
     "metadata": {},
     "output_type": "execute_result"
    }
   ],
   "source": [
    "from IPython.display import YouTubeVideo\n",
    "\n",
    "YouTubeVideo(\"haycL41dAhg\")"
   ]
  },
  {
   "cell_type": "markdown",
   "metadata": {
    "collapsed": true
   },
   "source": [
    "    "
   ]
  },
  {
   "cell_type": "code",
   "execution_count": null,
   "metadata": {
    "collapsed": true
   },
   "outputs": [],
   "source": []
  }
 ],
 "metadata": {
  "anaconda-cloud": {},
  "kernelspec": {
   "display_name": "Python [conda root]",
   "language": "python",
   "name": "conda-root-py"
  },
  "language_info": {
   "codemirror_mode": {
    "name": "ipython",
    "version": 2
   },
   "file_extension": ".py",
   "mimetype": "text/x-python",
   "name": "python",
   "nbconvert_exporter": "python",
   "pygments_lexer": "ipython2",
   "version": "2.7.12"
  }
 },
 "nbformat": 4,
 "nbformat_minor": 1
}
