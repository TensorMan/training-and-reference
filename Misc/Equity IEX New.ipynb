{
 "cells": [
  {
   "cell_type": "code",
   "execution_count": null,
   "metadata": {},
   "outputs": [],
   "source": [
    "%matplotlib inline  \n",
    "%pylab inline"
   ]
  },
  {
   "cell_type": "markdown",
   "metadata": {},
   "source": [
    "# Start here to retrieve fresh data from IEX\n",
    "Ticker symbols should be inserted in the line ```symbols = ['GM', 'TSLA']```\n",
    "\n",
    "When the retrieval has run, the data is saved in a pickle file.\n",
    "\n",
    "If you have a free IEX"
   ]
  },
  {
   "cell_type": "code",
   "execution_count": null,
   "metadata": {},
   "outputs": [],
   "source": [
    "from pandas_datareader.iex.daily import IEXDailyReader\n",
    "import pandas as pd\n",
    "import datetime as dt\n",
    "IEX_token='sk_50446876d4364cc8b218b298207a8e8f'\n",
    "# IEX_token='pk_73ddcbe824df41449a42bb6ea4cd1855'\n",
    "# symbols = ['GM', 'TSLA','AAPL', 'GOOG', 'MSFT','ZNGA', 'VIXY', 'SPY']\n",
    "symbols = ['GM', 'TSLA']\n",
    "start = dt.datetime(2017, 5, 4)\n",
    "# end = dt.datetime(2020, 3, 31) #end defaults to most recent available.\n",
    "# get OHLCV from iex (no more yahoo or google stock prices anymore)\n",
    "# Idiosyncrasy of DataReader is that the top level of column labels is OHLCV, and second level is TICKER\n",
    "dr=IEXDailyReader(symbols,start=start, api_key=IEX_token)\n",
    "d=dr.read()\n",
    "# Now swap the column label levels permanently\n",
    "d.columns = d.columns.swaplevel(0, 1)\n",
    "d.sort_index(1, inplace=True)\n",
    "#d.to_csv('iex_{}_{}.csv'.format(*symbols))\n",
    "d.to_pickle('iex_{}_{}.pkl'.format(*symbols))"
   ]
  },
  {
   "cell_type": "markdown",
   "metadata": {},
   "source": [
    "# Start with saved data\n",
    "Because of the quota limits of IEX, it may be advantageous to load directly from a file. Choose a file with the extension '.pkl'."
   ]
  },
  {
   "cell_type": "code",
   "execution_count": 1,
   "metadata": {},
   "outputs": [
    {
     "data": {
      "application/vnd.jupyter.widget-view+json": {
       "model_id": "d0091e8438b54fd98ca1312116b13722",
       "version_major": 2,
       "version_minor": 0
      },
      "text/plain": [
       "FileChooser(path='C:\\Users\\JB\\Documents\\GitHub\\Data-Analysis\\Equity Analysis', filename='', show_hidden='False…"
      ]
     },
     "metadata": {},
     "output_type": "display_data"
    }
   ],
   "source": [
    "from ipyfilechooser import FileChooser\n",
    "\n",
    "fc = FileChooser()\n",
    "\n",
    "display(fc)"
   ]
  },
  {
   "cell_type": "code",
   "execution_count": 2,
   "metadata": {
    "scrolled": true
   },
   "outputs": [],
   "source": [
    "import pandas as pd\n",
    "d=pd.read_pickle(fc.selected)"
   ]
  },
  {
   "cell_type": "code",
   "execution_count": 3,
   "metadata": {},
   "outputs": [],
   "source": [
    "import numpy as np\n",
    "import matplotlib.pyplot as plt\n",
    "from matplotlib import dates, ticker\n",
    "import mplfinance as mpf\n",
    "#from mplfinance.mplfinance import candlestick_ohlc "
   ]
  },
  {
   "cell_type": "code",
   "execution_count": 4,
   "metadata": {
    "scrolled": true
   },
   "outputs": [],
   "source": [
    "d.columns.set_levels(['Close', 'High', 'Low', 'Open', 'Volume'], level=1, inplace=True)"
   ]
  },
  {
   "cell_type": "code",
   "execution_count": 5,
   "metadata": {},
   "outputs": [],
   "source": [
    "d.index = pd.to_datetime(d.index)"
   ]
  },
  {
   "cell_type": "code",
   "execution_count": 13,
   "metadata": {
    "scrolled": false
   },
   "outputs": [
    {
     "data": {
      "image/png": "[encoded data removed]",
      "text/plain": [
       "<Figure size 576x414 with 4 Axes>"
      ]
     },
     "metadata": {
      "needs_background": "light"
     },
     "output_type": "display_data"
    }
   ],
   "source": [
    "mpf.plot(d['GM'][-50:],type = 'candlestick', style='charles', volume = True)"
   ]
  },
  {
   "cell_type": "code",
   "execution_count": null,
   "metadata": {
    "scrolled": true
   },
   "outputs": [],
   "source": [
    "# Calculate daily log returns\n",
    "rets=log(d/d.shift(1))\n",
    "#rets"
   ]
  },
  {
   "cell_type": "code",
   "execution_count": null,
   "metadata": {},
   "outputs": [],
   "source": [
    "(d['GM']['close']-d['GM']['close'].rolling(window=20).mean()).plot(grid=True, style=['red'])"
   ]
  },
  {
   "cell_type": "code",
   "execution_count": null,
   "metadata": {},
   "outputs": [],
   "source": [
    "# Calculate rolling/moving standard deviation over a window and plot\n",
    "rets['GM']['close'].rolling(window=20).std().plot(grid=True, style=['blue'])"
   ]
  },
  {
   "cell_type": "code",
   "execution_count": null,
   "metadata": {
    "scrolled": true
   },
   "outputs": [],
   "source": [
    "#d.drop(labels='volume',axis=1,level=1,inplace=True)"
   ]
  },
  {
   "cell_type": "code",
   "execution_count": null,
   "metadata": {
    "scrolled": true
   },
   "outputs": [],
   "source": [
    "d['GM'].index"
   ]
  },
  {
   "cell_type": "code",
   "execution_count": null,
   "metadata": {
    "scrolled": true
   },
   "outputs": [],
   "source": [
    "d.index"
   ]
  },
  {
   "cell_type": "code",
   "execution_count": null,
   "metadata": {},
   "outputs": [],
   "source": [
    "# OMG this was painful ... but instructive. I wanted to get \n",
    "# d=d.drop(labels=['volume'],axis=1, level=1)\n",
    "# d = d.drop('index', 1)\n",
    "k=d.index.tolist()\n",
    "# l=d['GM'].apply(tuple, axis=1).tolist()\n",
    "# Below reset_index causes index (timestamps as strings) to become ordinary column\n",
    "f=d['GM'].reset_index()\n",
    "# This applies(in map-style) function to convert time string in (new)'date' column\n",
    "f['date'] = f['date'].apply(lambda x : dt.datetime.strptime(x, \"%Y-%m-%d\").toordinal())\n",
    "# f.apply(tuple, axis=1).tolist()\n",
    "# filt=d.iloc[:, 0:4]\n",
    "# f=filt.reset_index(inplace=True)\n",
    "type(f.iloc[1,0])\n",
    "f"
   ]
  },
  {
   "cell_type": "code",
   "execution_count": null,
   "metadata": {},
   "outputs": [],
   "source": [
    "f.date"
   ]
  },
  {
   "cell_type": "code",
   "execution_count": null,
   "metadata": {},
   "outputs": [],
   "source": [
    "f.index\n",
    "f['Timestamp']=f['date']\n",
    "f = f.set_index(['Timestamp'])\n",
    "f.index = pd.to_datetime(f.index)\n",
    "f.resample('M')\n",
    "f"
   ]
  },
  {
   "cell_type": "code",
   "execution_count": null,
   "metadata": {},
   "outputs": [],
   "source": [
    "import datetime as dt\n",
    "t=dt.datetime.strptime(\"30Nov00\", \"%d%b%y\")\n",
    "now=dt.datetime.now()\n",
    "now.toordinal()\n"
   ]
  },
  {
   "cell_type": "code",
   "execution_count": null,
   "metadata": {},
   "outputs": [],
   "source": [
    "# candlestick2_ohlc takes individual parameters for O, H, L C lists\n",
    "from mpl_finance import candlestick_ohlc\n",
    "fig, ax1 = plt.subplots()\n",
    "# fin.candlestick2_ohlc(ax1, d['open']['GM'], d['high']['GM'], d['low']['GM'], d['close']['GM'], width=4, colorup='g', colordown='r', alpha=0.75)\n",
    "# fin.candlestick2_ohlc(ax1, d['open'], d['high'], d['low'], d['close'], width=4, colorup='g', colordown='r', alpha=0.75)\n",
    "d\n",
    "# nd=d['GM'].values\n",
    "# print(nd.shape)\n",
    "candlestick_ohlc(ax1, f.values)\n",
    "plt.show()\n",
    "f\n",
    "#\n",
    "# \n",
    "# fin.candlestick2_ohlc(ax1,d['GM'].values)"
   ]
  },
  {
   "cell_type": "code",
   "execution_count": null,
   "metadata": {},
   "outputs": [],
   "source": [
    "d.index"
   ]
  },
  {
   "cell_type": "code",
   "execution_count": null,
   "metadata": {
    "scrolled": true
   },
   "outputs": [],
   "source": [
    "# candlestick2_ohlc takes individual parameters for O, H, L C lists\n",
    "import io\n",
    "import datetime as dt\n",
    "from pandas_datareader.iex.daily import IEXDailyReader\n",
    "import matplotlib.pyplot as plt\n",
    "from mpl_finance import candlestick_ohlc\n",
    "from matplotlib.dates import date2num, DayLocator, MonthLocator, DateFormatter\n",
    "import pandas as pd\n",
    "\n",
    "symbols = ['GM', 'IBM', 'TSLA','AAPL', 'GOOG', 'MSFT','ZNGA', 'VIXY']\n",
    "start = dt.datetime(2017, 9, 10)\n",
    "end = dt.datetime(2018, 8, 25)\n",
    "dr=IEXDailyReader(symbols,start=start,end=end, api_key=IEX_token)\n",
    "d=dr.read()\n",
    "\n",
    "# Now swap the column label levels permanently\n",
    "d.columns = d.columns.swaplevel(0, 1)\n",
    "d.sort_index(1, inplace=True)\n",
    "\n",
    "dd=d['GM'].reset_index()\n",
    "dd['date'] = date2num(pd.to_datetime(dd['date']).tolist())\n",
    "\n",
    "plt.rcParams['figure.figsize'] = [15, 9]\n",
    "fig, ax=plt.subplots()\n",
    "candlestick_ohlc(ax, dd.values,colorup='green', colordown='red')\n",
    "ax.xaxis.set_major_locator(MonthLocator())\n",
    "ax.xaxis.set_major_formatter(DateFormatter('%d-%b-%y'))\n",
    "plt.xticks(rotation=45)\n",
    "plt.show()"
   ]
  },
  {
   "cell_type": "code",
   "execution_count": null,
   "metadata": {
    "scrolled": false
   },
   "outputs": [],
   "source": [
    "# Now try to re-sample (down-sample) from daily to monthly, and to synthesise OHLC\n",
    "d.index = pd.to_datetime(d.index)\n",
    "dw=d['GM']\n",
    "# Create new df for resample - 'M' Monthly but also intra-day, quarterly, weekly etc.\n",
    "dx=pd.DataFrame()\n",
    "dx['Open']=dw['open'].resample('M').first()\n",
    "dx['High']=dw['high'].resample('M').max()\n",
    "dx['Low'] =dw['low'].resample('M').min()\n",
    "dx['Close']=dw['close'].resample('M').last()\n",
    "\n",
    "# print(dx)\n",
    "dx=dx.reset_index()\n",
    "dx['date'] = date2num(pd.to_datetime(dx['date']).tolist())\n",
    "\n",
    "plt.rcParams['figure.figsize'] = [15, 9]\n",
    "fig, ax=plt.subplots()\n",
    "candlestick_ohlc(ax, dx.values,width=4,colorup='green', colordown='red')\n",
    "ax.xaxis.set_major_locator(MonthLocator())\n",
    "ax.xaxis.set_major_formatter(DateFormatter('%d%b%y'))\n",
    "plt.xticks(rotation=45)\n",
    "plt.show()"
   ]
  },
  {
   "cell_type": "code",
   "execution_count": null,
   "metadata": {},
   "outputs": [],
   "source": [
    "dx.first()"
   ]
  },
  {
   "cell_type": "code",
   "execution_count": null,
   "metadata": {},
   "outputs": [],
   "source": [
    "d['GM']['close'].max()"
   ]
  },
  {
   "cell_type": "code",
   "execution_count": null,
   "metadata": {},
   "outputs": [],
   "source": [
    "d[where d['']]"
   ]
  },
  {
   "cell_type": "code",
   "execution_count": null,
   "metadata": {},
   "outputs": [],
   "source": []
  }
 ],
 "metadata": {
  "kernelspec": {
   "display_name": "Python 3",
   "language": "python",
   "name": "python3"
  },
  "language_info": {
   "codemirror_mode": {
    "name": "ipython",
    "version": 3
   },
   "file_extension": ".py",
   "mimetype": "text/x-python",
   "name": "python",
   "nbconvert_exporter": "python",
   "pygments_lexer": "ipython3",
   "version": "3.6.8"
  }
 },
 "nbformat": 4,
 "nbformat_minor": 2
}
