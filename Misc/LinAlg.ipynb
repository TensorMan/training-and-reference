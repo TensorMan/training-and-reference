{
 "cells": [
  {
   "cell_type": "code",
   "execution_count": 1,
   "metadata": {},
   "outputs": [
    {
     "data": {
      "text/plain": [
       "array([[ 0. ,  1. , -0.5],\n",
       "       [ 0. ,  2. , -1. ],\n",
       "       [ 0. ,  3. ,  2.5]])"
      ]
     },
     "execution_count": 1,
     "metadata": {},
     "output_type": "execute_result"
    }
   ],
   "source": [
    "import numpy as np\n",
    "x=np.array([[1,2,3],[4,5,6],[7,8,9]])\n",
    "x.transpose()\n",
    "x[1,1]\n",
    "x[:,1]\n",
    "x[2,1]\n",
    "np.random.rand(4,4)\n",
    "x_=np.linalg.inv(x)\n",
    "x_*x\n",
    "x_inv=np.linalg.inv(x)\n",
    "x_inv\n",
    "np.matmul(x,x_inv)\n",
    "xinv=np.linalg.inv(x)\n",
    "np.dot(x,xinv)"
   ]
  },
  {
   "cell_type": "code",
   "execution_count": 3,
   "metadata": {},
   "outputs": [
    {
     "data": {
      "text/plain": [
       "<function numpy.core.numeric.identity>"
      ]
     },
     "execution_count": 3,
     "metadata": {},
     "output_type": "execute_result"
    }
   ],
   "source": [
    "A=np.random.rand(3,4)\n",
    "A*10000\n",
    "A.transpose()\n",
    "np.identity"
   ]
  },
  {
   "cell_type": "code",
   "execution_count": 4,
   "metadata": {},
   "outputs": [
    {
     "data": {
      "text/plain": [
       "array([ 2., -1.])"
      ]
     },
     "execution_count": 4,
     "metadata": {},
     "output_type": "execute_result"
    }
   ],
   "source": [
    "c=np.array([[2,3],[1,-2]])\n",
    "o=np.array([1,4])\n",
    "np.linalg.inv(c).dot(o)"
   ]
  },
  {
   "cell_type": "code",
   "execution_count": 7,
   "metadata": {},
   "outputs": [
    {
     "name": "stdout",
     "output_type": "stream",
     "text": [
      "[[  3.89740066e-05   2.75651942e-06  -2.47999979e-05 ...,  -3.49333001e-07\n",
      "    3.18829939e-05   1.00682587e-05]\n",
      " [  2.85179965e-05   4.19029468e-06  -2.06352992e-05 ...,   4.64841148e-06\n",
      "    1.51147532e-05   5.75370452e-06]\n",
      " [ -7.23830170e-06   5.34018970e-06   1.33203247e-05 ...,  -3.11747792e-06\n",
      "   -7.17107197e-06   8.08312852e-06]\n",
      " ..., \n",
      " [ -5.32531085e-06   5.74846782e-06  -3.75198295e-06 ...,  -1.03856819e-06\n",
      "   -8.37275745e-06   7.02280611e-06]\n",
      " [ -1.00425549e-05   5.08885430e-06   8.56537940e-06 ...,  -7.84421362e-06\n",
      "   -4.87659999e-06  -1.47235545e-06]\n",
      " [  1.51723621e-05  -4.62278843e-06  -7.40309491e-06 ...,   4.63707007e-06\n",
      "    8.69692473e-06  -1.34524594e-06]]\n"
     ]
    }
   ],
   "source": [
    "import numpy as np\n",
    "x = np.random.rand(500,500)*10000 # makes a 500x500 matrix with elements around 10000\n",
    "x.transpose()\n",
    "xin = np.linalg.inv(x)\n",
    "xin.dot(x.transpose())\n",
    "print(xin)\n",
    "# iden = np.matmul(x,xin)\n",
    "# np.linalg.det(x)\n",
    "# xin.dot(x)"
   ]
  },
  {
   "cell_type": "code",
   "execution_count": 8,
   "metadata": {},
   "outputs": [
    {
     "name": "stdout",
     "output_type": "stream",
     "text": [
      "The answer is     4.2000000000e+01\n"
     ]
    }
   ],
   "source": [
    "print(\"The answer is {:20.10e}\".format(42))"
   ]
  },
  {
   "cell_type": "code",
   "execution_count": 9,
   "metadata": {},
   "outputs": [
    {
     "name": "stdout",
     "output_type": "stream",
     "text": [
      "[ 2. -1.]\n"
     ]
    }
   ],
   "source": [
    "A=np.array([[2,3],[1,-2]])\n",
    "A_inv = np.linalg.inv(A)\n",
    "B=np.array([1,4])\n",
    "X= A_inv.dot(B)\n",
    "print X\n"
   ]
  },
  {
   "cell_type": "code",
   "execution_count": null,
   "metadata": {
    "collapsed": true
   },
   "outputs": [],
   "source": []
  }
 ],
 "metadata": {
  "kernelspec": {
   "display_name": "Python 3",
   "language": "python",
   "name": "python3"
  },
  "language_info": {
   "codemirror_mode": {
    "name": "ipython",
    "version": 3
   },
   "file_extension": ".py",
   "mimetype": "text/x-python",
   "name": "python",
   "nbconvert_exporter": "python",
   "pygments_lexer": "ipython3",
   "version": "3.6.4"
  }
 },
 "nbformat": 4,
 "nbformat_minor": 1
}
