{
 "cells": [
  {
   "cell_type": "code",
   "execution_count": 1,
   "metadata": {},
   "outputs": [],
   "source": [
    "a,*args,c=range(10)"
   ]
  },
  {
   "cell_type": "code",
   "execution_count": 8,
   "metadata": {},
   "outputs": [],
   "source": [
    "a=[]\n",
    "a[0:2]=range(3)"
   ]
  },
  {
   "cell_type": "code",
   "execution_count": 9,
   "metadata": {},
   "outputs": [
    {
     "data": {
      "text/plain": [
       "[0, 1, 2]"
      ]
     },
     "execution_count": 9,
     "metadata": {},
     "output_type": "execute_result"
    }
   ],
   "source": [
    "a"
   ]
  },
  {
   "cell_type": "code",
   "execution_count": 4,
   "metadata": {},
   "outputs": [
    {
     "data": {
      "text/plain": [
       "[1, 2, 3, 4, 5, 6, 7, 8]"
      ]
     },
     "execution_count": 4,
     "metadata": {},
     "output_type": "execute_result"
    }
   ],
   "source": [
    "args"
   ]
  },
  {
   "cell_type": "code",
   "execution_count": 1,
   "metadata": {},
   "outputs": [],
   "source": [
    "from pathlib import Path\n",
    "\n",
    "dataset = 'wiki_images'\n",
    "datasets_root = Path('/path/to/datasets/')\n",
    "\n",
    "train_path = datasets_root / dataset / 'train'\n",
    "test_path = datasets_root / dataset / 'test'"
   ]
  },
  {
   "cell_type": "code",
   "execution_count": 3,
   "metadata": {},
   "outputs": [
    {
     "name": "stdout",
     "output_type": "stream",
     "text": [
      "/path/to/datasets/wiki_images/train\n"
     ]
    }
   ],
   "source": [
    "print(train_path)"
   ]
  },
  {
   "cell_type": "code",
   "execution_count": 78,
   "metadata": {},
   "outputs": [
    {
     "name": "stdout",
     "output_type": "stream",
     "text": [
      "H\n",
      "e\n",
      "l\n",
      "l\n",
      "o\n",
      " \n",
      "W\n",
      "o\n",
      "r\n",
      "l\n",
      "d\n"
     ]
    }
   ],
   "source": [
    "s=\"Hello World\"\n",
    "for c in s:\n",
    "    print(c)"
   ]
  },
  {
   "cell_type": "code",
   "execution_count": 105,
   "metadata": {},
   "outputs": [
    {
     "data": {
      "text/plain": [
       "True"
      ]
     },
     "execution_count": 105,
     "metadata": {},
     "output_type": "execute_result"
    }
   ],
   "source": [
    "z=[]\n",
    "y=list()\n",
    "z,y\n",
    "z==y"
   ]
  },
  {
   "cell_type": "code",
   "execution_count": 109,
   "metadata": {},
   "outputs": [
    {
     "ename": "SyntaxError",
     "evalue": "invalid syntax (<ipython-input-109-68afff209334>, line 1)",
     "output_type": "error",
     "traceback": [
      "\u001b[0;36m  File \u001b[0;32m\"<ipython-input-109-68afff209334>\"\u001b[0;36m, line \u001b[0;32m1\u001b[0m\n\u001b[0;31m    z==y? ('happy', 'upset')\u001b[0m\n\u001b[0m        ^\u001b[0m\n\u001b[0;31mSyntaxError\u001b[0m\u001b[0;31m:\u001b[0m invalid syntax\n"
     ]
    }
   ],
   "source": []
  },
  {
   "cell_type": "code",
   "execution_count": 159,
   "metadata": {},
   "outputs": [
    {
     "name": "stdout",
     "output_type": "stream",
     "text": [
      "The Phrase \"The quick brown fox jumps over the lazy dog\" has 1 words\n",
      "The\n",
      "quick\n",
      "brown\n",
      "fox\n",
      "jumps\n",
      "over\n",
      "the\n",
      "lazy\n",
      "dog\n",
      "['The', 'quick', 'brown', 'fox', 'jumps', 'over', 'the', 'lazy', 'dog', 2, 9872.6782] lazy\n"
     ]
    }
   ],
   "source": [
    "t=\"The quick brown fox jumps over the lazy dog\"\n",
    "print('The Phrase \"{}\" has {} words'.format(t,len(c)))\n",
    "for w in t.split():\n",
    "    print(w)\n",
    "l=t.split()\n",
    "l+=[2]\n",
    "l+= [9872.6782]\n",
    "l\n",
    "print(l, l[-4])"
   ]
  },
  {
   "cell_type": "code",
   "execution_count": 111,
   "metadata": {},
   "outputs": [],
   "source": [
    "def fib(n):\n",
    "    '''\n",
    "    Calculates the n'th Fibonacci series term for a given 'n'\n",
    "    '''\n",
    "    # Hard code initial terms for 0th and 1st\n",
    "    prev  = 1\n",
    "    pprev = 0\n",
    "    for i in range(2,n+1):\n",
    "        fib = pprev + prev\n",
    "        pprev = prev\n",
    "        prev = fib\n",
    "        print('The Fibonnaci term at [index, fib] is [{}, {}]'.format(i,fib))\n",
    "    return(fib)\n",
    "        "
   ]
  },
  {
   "cell_type": "code",
   "execution_count": 74,
   "metadata": {},
   "outputs": [
    {
     "name": "stdout",
     "output_type": "stream",
     "text": [
      "The Fibonnaci term at [index, fib] is [2, 1]\n",
      "The Fibonnaci term at [index, fib] is [3, 2]\n",
      "The Fibonnaci term at [index, fib] is [4, 3]\n",
      "The Fibonnaci term at [index, fib] is [5, 5]\n"
     ]
    },
    {
     "data": {
      "text/plain": [
       "5"
      ]
     },
     "execution_count": 74,
     "metadata": {},
     "output_type": "execute_result"
    }
   ],
   "source": [
    "fib(5)"
   ]
  },
  {
   "cell_type": "code",
   "execution_count": 114,
   "metadata": {},
   "outputs": [],
   "source": [
    "def fib2(n):\n",
    "    '''\n",
    "    Calculates the n'th Fibonacci series term for a given 'n'\n",
    "    '''\n",
    "    # Hard code initial terms for 0th and 1st\n",
    "    ser=[]\n",
    "    prev  = 1\n",
    "    pprev = 0\n",
    "    for i in range(2,n+1):\n",
    "        fib = pprev + prev\n",
    "        pprev = prev\n",
    "        prev = fib\n",
    "        print('The Fibonnaci term at [index, fib] is [{}, {}]'.format(i,fib))\n",
    "        ser += [fib]\n",
    "    return(ser)"
   ]
  },
  {
   "cell_type": "code",
   "execution_count": 135,
   "metadata": {},
   "outputs": [
    {
     "name": "stdout",
     "output_type": "stream",
     "text": [
      "The Fibonnaci term at [index, fib] is [2, 1]\n",
      "The Fibonnaci term at [index, fib] is [3, 2]\n",
      "The Fibonnaci term at [index, fib] is [4, 3]\n",
      "The Fibonnaci term at [index, fib] is [5, 5]\n",
      "The Fibonnaci term at [index, fib] is [6, 8]\n",
      "The Fibonnaci term at [index, fib] is [7, 13]\n",
      "The Fibonnaci term at [index, fib] is [8, 21]\n",
      "The Fibonnaci term at [index, fib] is [9, 34]\n",
      "The Fibonnaci term at [index, fib] is [10, 55]\n",
      "The Fibonnaci term at [index, fib] is [11, 89]\n",
      "The Fibonnaci term at [index, fib] is [12, 144]\n",
      "The Fibonnaci term at [index, fib] is [13, 233]\n",
      "The Fibonnaci term at [index, fib] is [14, 377]\n",
      "The Fibonnaci term at [index, fib] is [15, 610]\n",
      "The Fibonnaci term at [index, fib] is [16, 987]\n",
      "The Fibonnaci term at [index, fib] is [17, 1597]\n",
      "The Fibonnaci term at [index, fib] is [18, 2584]\n",
      "The Fibonnaci term at [index, fib] is [19, 4181]\n",
      "The Fibonnaci term at [index, fib] is [20, 6765]\n",
      "The Fibonnaci term at [index, fib] is [21, 10946]\n",
      "The Fibonnaci term at [index, fib] is [22, 17711]\n"
     ]
    }
   ],
   "source": [
    "f=fib2(22)"
   ]
  },
  {
   "cell_type": "code",
   "execution_count": 177,
   "metadata": {},
   "outputs": [],
   "source": [
    "import copy as c\n",
    "l=t.split()\n",
    "cop=c.copy(l)\n"
   ]
  },
  {
   "cell_type": "code",
   "execution_count": 205,
   "metadata": {},
   "outputs": [
    {
     "data": {
      "text/plain": [
       "['The', 'quick', 'brown', 'fox', 'jumps', 'over', 'the', 'lazy', 'dog']"
      ]
     },
     "execution_count": 205,
     "metadata": {},
     "output_type": "execute_result"
    }
   ],
   "source": [
    "d={0:1,2:1,3:1,4:0}\n",
    "l"
   ]
  },
  {
   "cell_type": "code",
   "execution_count": 186,
   "metadata": {},
   "outputs": [],
   "source": [
    "d.update({1:1})"
   ]
  },
  {
   "cell_type": "code",
   "execution_count": 193,
   "metadata": {},
   "outputs": [],
   "source": [
    "d['dogspeak']=l"
   ]
  },
  {
   "cell_type": "code",
   "execution_count": 203,
   "metadata": {},
   "outputs": [
    {
     "ename": "SyntaxError",
     "evalue": "invalid syntax (<ipython-input-203-d9409e526d27>, line 1)",
     "output_type": "error",
     "traceback": [
      "\u001b[0;36m  File \u001b[0;32m\"<ipython-input-203-d9409e526d27>\"\u001b[0;36m, line \u001b[0;32m1\u001b[0m\n\u001b[0;31m    for i, p in enumerate([ e if sym.isprime(e) for e in f ]) : print(i,p)\u001b[0m\n\u001b[0m                                                  ^\u001b[0m\n\u001b[0;31mSyntaxError\u001b[0m\u001b[0;31m:\u001b[0m invalid syntax\n"
     ]
    }
   ],
   "source": [
    "for i, p in enumerate([ e if sym.isprime(e) for e in f ]) : print(i,p)"
   ]
  },
  {
   "cell_type": "code",
   "execution_count": 208,
   "metadata": {},
   "outputs": [
    {
     "data": {
      "text/plain": [
       "False"
      ]
     },
     "execution_count": 208,
     "metadata": {},
     "output_type": "execute_result"
    }
   ],
   "source": [
    "sym.isprime(f[7])"
   ]
  },
  {
   "cell_type": "code",
   "execution_count": 209,
   "metadata": {},
   "outputs": [
    {
     "data": {
      "text/plain": [
       "[2, 3, 5, 13, 89, 233, 1597]"
      ]
     },
     "execution_count": 209,
     "metadata": {},
     "output_type": "execute_result"
    }
   ],
   "source": [
    "[ e  for e in f if sym.isprime(e)]"
   ]
  },
  {
   "cell_type": "code",
   "execution_count": 132,
   "metadata": {},
   "outputs": [],
   "source": [
    "import sympy as sym\n",
    "def bulk_prime_check(l):\n",
    "    return [sym.isprime(e) for e in l]"
   ]
  },
  {
   "cell_type": "code",
   "execution_count": 217,
   "metadata": {},
   "outputs": [
    {
     "name": "stdout",
     "output_type": "stream",
     "text": [
      "The Fibonnaci term at [index, fib] is [2, 1]\n",
      "The Fibonnaci term at [index, fib] is [3, 2]\n",
      "The Fibonnaci term at [index, fib] is [4, 3]\n",
      "The Fibonnaci term at [index, fib] is [5, 5]\n",
      "The Fibonnaci term at [index, fib] is [6, 8]\n",
      "The Fibonnaci term at [index, fib] is [7, 13]\n",
      "The Fibonnaci term at [index, fib] is [8, 21]\n",
      "The Fibonnaci term at [index, fib] is [9, 34]\n",
      "The Fibonnaci term at [index, fib] is [10, 55]\n",
      "The Fibonnaci term at [index, fib] is [11, 89]\n",
      "The Fibonnaci term at [index, fib] is [12, 144]\n",
      "The Fibonnaci term at [index, fib] is [13, 233]\n",
      "The Fibonnaci term at [index, fib] is [14, 377]\n",
      "The Fibonnaci term at [index, fib] is [15, 610]\n",
      "The Fibonnaci term at [index, fib] is [16, 987]\n",
      "The Fibonnaci term at [index, fib] is [17, 1597]\n",
      "The Fibonnaci term at [index, fib] is [18, 2584]\n",
      "The Fibonnaci term at [index, fib] is [19, 4181]\n",
      "The Fibonnaci term at [index, fib] is [20, 6765]\n",
      "The Fibonnaci term at [index, fib] is [21, 10946]\n",
      "The Fibonnaci term at [index, fib] is [22, 17711]\n",
      "The Fibonnaci term at [index, fib] is [23, 28657]\n",
      "The Fibonnaci term at [index, fib] is [24, 46368]\n",
      "The Fibonnaci term at [index, fib] is [25, 75025]\n",
      "The Fibonnaci term at [index, fib] is [26, 121393]\n",
      "The Fibonnaci term at [index, fib] is [27, 196418]\n",
      "The Fibonnaci term at [index, fib] is [28, 317811]\n",
      "The Fibonnaci term at [index, fib] is [29, 514229]\n",
      "The Fibonnaci term at [index, fib] is [30, 832040]\n",
      "The Fibonnaci term at [index, fib] is [31, 1346269]\n",
      "The Fibonnaci term at [index, fib] is [32, 2178309]\n",
      "The Fibonnaci term at [index, fib] is [33, 3524578]\n",
      "The Fibonnaci term at [index, fib] is [34, 5702887]\n",
      "The Fibonnaci term at [index, fib] is [35, 9227465]\n",
      "The Fibonnaci term at [index, fib] is [36, 14930352]\n",
      "The Fibonnaci term at [index, fib] is [37, 24157817]\n",
      "The Fibonnaci term at [index, fib] is [38, 39088169]\n",
      "The Fibonnaci term at [index, fib] is [39, 63245986]\n",
      "The Fibonnaci term at [index, fib] is [40, 102334155]\n",
      "The Fibonnaci term at [index, fib] is [41, 165580141]\n",
      "The Fibonnaci term at [index, fib] is [42, 267914296]\n",
      "The Fibonnaci term at [index, fib] is [43, 433494437]\n",
      "The Fibonnaci term at [index, fib] is [44, 701408733]\n",
      "The Fibonnaci term at [index, fib] is [45, 1134903170]\n",
      "The Fibonnaci term at [index, fib] is [46, 1836311903]\n",
      "The Fibonnaci term at [index, fib] is [47, 2971215073]\n",
      "The Fibonnaci term at [index, fib] is [48, 4807526976]\n",
      "The Fibonnaci term at [index, fib] is [49, 7778742049]\n",
      "The Fibonnaci term at [index, fib] is [50, 12586269025]\n",
      "The Fibonnaci term at [index, fib] is [51, 20365011074]\n",
      "The Fibonnaci term at [index, fib] is [52, 32951280099]\n",
      "The Fibonnaci term at [index, fib] is [53, 53316291173]\n",
      "The Fibonnaci term at [index, fib] is [54, 86267571272]\n",
      "The Fibonnaci term at [index, fib] is [55, 139583862445]\n",
      "The Fibonnaci term at [index, fib] is [56, 225851433717]\n",
      "The Fibonnaci term at [index, fib] is [57, 365435296162]\n",
      "The Fibonnaci term at [index, fib] is [58, 591286729879]\n",
      "The Fibonnaci term at [index, fib] is [59, 956722026041]\n",
      "The Fibonnaci term at [index, fib] is [60, 1548008755920]\n",
      "The Fibonnaci term at [index, fib] is [61, 2504730781961]\n",
      "The Fibonnaci term at [index, fib] is [62, 4052739537881]\n",
      "The Fibonnaci term at [index, fib] is [63, 6557470319842]\n",
      "The Fibonnaci term at [index, fib] is [64, 10610209857723]\n",
      "The Fibonnaci term at [index, fib] is [65, 17167680177565]\n",
      "The Fibonnaci term at [index, fib] is [66, 27777890035288]\n",
      "The Fibonnaci term at [index, fib] is [67, 44945570212853]\n",
      "The Fibonnaci term at [index, fib] is [68, 72723460248141]\n",
      "The Fibonnaci term at [index, fib] is [69, 117669030460994]\n",
      "The Fibonnaci term at [index, fib] is [70, 190392490709135]\n",
      "The Fibonnaci term at [index, fib] is [71, 308061521170129]\n",
      "The Fibonnaci term at [index, fib] is [72, 498454011879264]\n",
      "The Fibonnaci term at [index, fib] is [73, 806515533049393]\n",
      "The Fibonnaci term at [index, fib] is [74, 1304969544928657]\n",
      "The Fibonnaci term at [index, fib] is [75, 2111485077978050]\n",
      "The Fibonnaci term at [index, fib] is [76, 3416454622906707]\n",
      "The Fibonnaci term at [index, fib] is [77, 5527939700884757]\n",
      "The Fibonnaci term at [index, fib] is [78, 8944394323791464]\n",
      "The Fibonnaci term at [index, fib] is [79, 14472334024676221]\n",
      "The Fibonnaci term at [index, fib] is [80, 23416728348467685]\n",
      "The Fibonnaci term at [index, fib] is [81, 37889062373143906]\n",
      "The Fibonnaci term at [index, fib] is [82, 61305790721611591]\n",
      "The Fibonnaci term at [index, fib] is [83, 99194853094755497]\n",
      "The Fibonnaci term at [index, fib] is [84, 160500643816367088]\n",
      "The Fibonnaci term at [index, fib] is [85, 259695496911122585]\n",
      "The Fibonnaci term at [index, fib] is [86, 420196140727489673]\n",
      "The Fibonnaci term at [index, fib] is [87, 679891637638612258]\n",
      "The Fibonnaci term at [index, fib] is [88, 1100087778366101931]\n",
      "The Fibonnaci term at [index, fib] is [89, 1779979416004714189]\n",
      "The Fibonnaci term at [index, fib] is [90, 2880067194370816120]\n",
      "The Fibonnaci term at [index, fib] is [91, 4660046610375530309]\n",
      "The Fibonnaci term at [index, fib] is [92, 7540113804746346429]\n",
      "The Fibonnaci term at [index, fib] is [93, 12200160415121876738]\n",
      "The Fibonnaci term at [index, fib] is [94, 19740274219868223167]\n",
      "The Fibonnaci term at [index, fib] is [95, 31940434634990099905]\n",
      "The Fibonnaci term at [index, fib] is [96, 51680708854858323072]\n",
      "The Fibonnaci term at [index, fib] is [97, 83621143489848422977]\n",
      "The Fibonnaci term at [index, fib] is [98, 135301852344706746049]\n",
      "The Fibonnaci term at [index, fib] is [99, 218922995834555169026]\n",
      "The Fibonnaci term at [index, fib] is [100, 354224848179261915075]\n",
      "The Fibonnaci term at [index, fib] is [101, 573147844013817084101]\n",
      "The Fibonnaci term at [index, fib] is [102, 927372692193078999176]\n",
      "The Fibonnaci term at [index, fib] is [103, 1500520536206896083277]\n",
      "The Fibonnaci term at [index, fib] is [104, 2427893228399975082453]\n",
      "The Fibonnaci term at [index, fib] is [105, 3928413764606871165730]\n",
      "The Fibonnaci term at [index, fib] is [106, 6356306993006846248183]\n",
      "The Fibonnaci term at [index, fib] is [107, 10284720757613717413913]\n",
      "The Fibonnaci term at [index, fib] is [108, 16641027750620563662096]\n",
      "The Fibonnaci term at [index, fib] is [109, 26925748508234281076009]\n",
      "The Fibonnaci term at [index, fib] is [110, 43566776258854844738105]\n",
      "The Fibonnaci term at [index, fib] is [111, 70492524767089125814114]\n",
      "The Fibonnaci term at [index, fib] is [112, 114059301025943970552219]\n",
      "The Fibonnaci term at [index, fib] is [113, 184551825793033096366333]\n",
      "The Fibonnaci term at [index, fib] is [114, 298611126818977066918552]\n",
      "The Fibonnaci term at [index, fib] is [115, 483162952612010163284885]\n",
      "The Fibonnaci term at [index, fib] is [116, 781774079430987230203437]\n",
      "The Fibonnaci term at [index, fib] is [117, 1264937032042997393488322]\n",
      "The Fibonnaci term at [index, fib] is [118, 2046711111473984623691759]\n",
      "The Fibonnaci term at [index, fib] is [119, 3311648143516982017180081]\n",
      "The Fibonnaci term at [index, fib] is [120, 5358359254990966640871840]\n",
      "The Fibonnaci term at [index, fib] is [121, 8670007398507948658051921]\n",
      "The Fibonnaci term at [index, fib] is [122, 14028366653498915298923761]\n",
      "The Fibonnaci term at [index, fib] is [123, 22698374052006863956975682]\n",
      "The Fibonnaci term at [index, fib] is [124, 36726740705505779255899443]\n",
      "The Fibonnaci term at [index, fib] is [125, 59425114757512643212875125]\n",
      "The Fibonnaci term at [index, fib] is [126, 96151855463018422468774568]\n",
      "The Fibonnaci term at [index, fib] is [127, 155576970220531065681649693]\n",
      "The Fibonnaci term at [index, fib] is [128, 251728825683549488150424261]\n",
      "The Fibonnaci term at [index, fib] is [129, 407305795904080553832073954]\n",
      "The Fibonnaci term at [index, fib] is [130, 659034621587630041982498215]\n",
      "The Fibonnaci term at [index, fib] is [131, 1066340417491710595814572169]\n",
      "The Fibonnaci term at [index, fib] is [132, 1725375039079340637797070384]\n",
      "The Fibonnaci term at [index, fib] is [133, 2791715456571051233611642553]\n",
      "The Fibonnaci term at [index, fib] is [134, 4517090495650391871408712937]\n",
      "The Fibonnaci term at [index, fib] is [135, 7308805952221443105020355490]\n",
      "The Fibonnaci term at [index, fib] is [136, 11825896447871834976429068427]\n",
      "The Fibonnaci term at [index, fib] is [137, 19134702400093278081449423917]\n",
      "The Fibonnaci term at [index, fib] is [138, 30960598847965113057878492344]\n",
      "The Fibonnaci term at [index, fib] is [139, 50095301248058391139327916261]\n",
      "The Fibonnaci term at [index, fib] is [140, 81055900096023504197206408605]\n",
      "The Fibonnaci term at [index, fib] is [141, 131151201344081895336534324866]\n",
      "The Fibonnaci term at [index, fib] is [142, 212207101440105399533740733471]\n",
      "The Fibonnaci term at [index, fib] is [143, 343358302784187294870275058337]\n",
      "The Fibonnaci term at [index, fib] is [144, 555565404224292694404015791808]\n",
      "The Fibonnaci term at [index, fib] is [145, 898923707008479989274290850145]\n",
      "The Fibonnaci term at [index, fib] is [146, 1454489111232772683678306641953]\n",
      "The Fibonnaci term at [index, fib] is [147, 2353412818241252672952597492098]\n",
      "The Fibonnaci term at [index, fib] is [148, 3807901929474025356630904134051]\n",
      "The Fibonnaci term at [index, fib] is [149, 6161314747715278029583501626149]\n",
      "The Fibonnaci term at [index, fib] is [150, 9969216677189303386214405760200]\n",
      "The Fibonnaci term at [index, fib] is [151, 16130531424904581415797907386349]\n",
      "The Fibonnaci term at [index, fib] is [152, 26099748102093884802012313146549]\n",
      "The Fibonnaci term at [index, fib] is [153, 42230279526998466217810220532898]\n",
      "The Fibonnaci term at [index, fib] is [154, 68330027629092351019822533679447]\n",
      "The Fibonnaci term at [index, fib] is [155, 110560307156090817237632754212345]\n",
      "The Fibonnaci term at [index, fib] is [156, 178890334785183168257455287891792]\n",
      "The Fibonnaci term at [index, fib] is [157, 289450641941273985495088042104137]\n",
      "The Fibonnaci term at [index, fib] is [158, 468340976726457153752543329995929]\n",
      "The Fibonnaci term at [index, fib] is [159, 757791618667731139247631372100066]\n",
      "The Fibonnaci term at [index, fib] is [160, 1226132595394188293000174702095995]\n",
      "The Fibonnaci term at [index, fib] is [161, 1983924214061919432247806074196061]\n",
      "The Fibonnaci term at [index, fib] is [162, 3210056809456107725247980776292056]\n",
      "The Fibonnaci term at [index, fib] is [163, 5193981023518027157495786850488117]\n",
      "The Fibonnaci term at [index, fib] is [164, 8404037832974134882743767626780173]\n",
      "The Fibonnaci term at [index, fib] is [165, 13598018856492162040239554477268290]\n",
      "The Fibonnaci term at [index, fib] is [166, 22002056689466296922983322104048463]\n",
      "The Fibonnaci term at [index, fib] is [167, 35600075545958458963222876581316753]\n",
      "The Fibonnaci term at [index, fib] is [168, 57602132235424755886206198685365216]\n",
      "The Fibonnaci term at [index, fib] is [169, 93202207781383214849429075266681969]\n",
      "The Fibonnaci term at [index, fib] is [170, 150804340016807970735635273952047185]\n",
      "The Fibonnaci term at [index, fib] is [171, 244006547798191185585064349218729154]\n",
      "The Fibonnaci term at [index, fib] is [172, 394810887814999156320699623170776339]\n",
      "The Fibonnaci term at [index, fib] is [173, 638817435613190341905763972389505493]\n",
      "The Fibonnaci term at [index, fib] is [174, 1033628323428189498226463595560281832]\n",
      "The Fibonnaci term at [index, fib] is [175, 1672445759041379840132227567949787325]\n",
      "The Fibonnaci term at [index, fib] is [176, 2706074082469569338358691163510069157]\n",
      "The Fibonnaci term at [index, fib] is [177, 4378519841510949178490918731459856482]\n",
      "The Fibonnaci term at [index, fib] is [178, 7084593923980518516849609894969925639]\n",
      "The Fibonnaci term at [index, fib] is [179, 11463113765491467695340528626429782121]\n",
      "The Fibonnaci term at [index, fib] is [180, 18547707689471986212190138521399707760]\n",
      "The Fibonnaci term at [index, fib] is [181, 30010821454963453907530667147829489881]\n",
      "The Fibonnaci term at [index, fib] is [182, 48558529144435440119720805669229197641]\n",
      "The Fibonnaci term at [index, fib] is [183, 78569350599398894027251472817058687522]\n",
      "The Fibonnaci term at [index, fib] is [184, 127127879743834334146972278486287885163]\n",
      "The Fibonnaci term at [index, fib] is [185, 205697230343233228174223751303346572685]\n",
      "The Fibonnaci term at [index, fib] is [186, 332825110087067562321196029789634457848]\n",
      "The Fibonnaci term at [index, fib] is [187, 538522340430300790495419781092981030533]\n",
      "The Fibonnaci term at [index, fib] is [188, 871347450517368352816615810882615488381]\n",
      "The Fibonnaci term at [index, fib] is [189, 1409869790947669143312035591975596518914]\n",
      "The Fibonnaci term at [index, fib] is [190, 2281217241465037496128651402858212007295]\n",
      "The Fibonnaci term at [index, fib] is [191, 3691087032412706639440686994833808526209]\n",
      "The Fibonnaci term at [index, fib] is [192, 5972304273877744135569338397692020533504]\n",
      "The Fibonnaci term at [index, fib] is [193, 9663391306290450775010025392525829059713]\n",
      "The Fibonnaci term at [index, fib] is [194, 15635695580168194910579363790217849593217]\n",
      "The Fibonnaci term at [index, fib] is [195, 25299086886458645685589389182743678652930]\n",
      "The Fibonnaci term at [index, fib] is [196, 40934782466626840596168752972961528246147]\n",
      "The Fibonnaci term at [index, fib] is [197, 66233869353085486281758142155705206899077]\n",
      "The Fibonnaci term at [index, fib] is [198, 107168651819712326877926895128666735145224]\n",
      "The Fibonnaci term at [index, fib] is [199, 173402521172797813159685037284371942044301]\n",
      "The Fibonnaci term at [index, fib] is [200, 280571172992510140037611932413038677189525]\n",
      "The Fibonnaci term at [index, fib] is [201, 453973694165307953197296969697410619233826]\n",
      "The Fibonnaci term at [index, fib] is [202, 734544867157818093234908902110449296423351]\n",
      "The Fibonnaci term at [index, fib] is [203, 1188518561323126046432205871807859915657177]\n",
      "The Fibonnaci term at [index, fib] is [204, 1923063428480944139667114773918309212080528]\n",
      "The Fibonnaci term at [index, fib] is [205, 3111581989804070186099320645726169127737705]\n",
      "The Fibonnaci term at [index, fib] is [206, 5034645418285014325766435419644478339818233]\n",
      "The Fibonnaci term at [index, fib] is [207, 8146227408089084511865756065370647467555938]\n",
      "The Fibonnaci term at [index, fib] is [208, 13180872826374098837632191485015125807374171]\n",
      "The Fibonnaci term at [index, fib] is [209, 21327100234463183349497947550385773274930109]\n",
      "The Fibonnaci term at [index, fib] is [210, 34507973060837282187130139035400899082304280]\n",
      "The Fibonnaci term at [index, fib] is [211, 55835073295300465536628086585786672357234389]\n",
      "The Fibonnaci term at [index, fib] is [212, 90343046356137747723758225621187571439538669]\n",
      "The Fibonnaci term at [index, fib] is [213, 146178119651438213260386312206974243796773058]\n",
      "The Fibonnaci term at [index, fib] is [214, 236521166007575960984144537828161815236311727]\n",
      "The Fibonnaci term at [index, fib] is [215, 382699285659014174244530850035136059033084785]\n",
      "The Fibonnaci term at [index, fib] is [216, 619220451666590135228675387863297874269396512]\n",
      "The Fibonnaci term at [index, fib] is [217, 1001919737325604309473206237898433933302481297]\n",
      "The Fibonnaci term at [index, fib] is [218, 1621140188992194444701881625761731807571877809]\n",
      "The Fibonnaci term at [index, fib] is [219, 2623059926317798754175087863660165740874359106]\n",
      "The Fibonnaci term at [index, fib] is [220, 4244200115309993198876969489421897548446236915]\n",
      "The Fibonnaci term at [index, fib] is [221, 6867260041627791953052057353082063289320596021]\n",
      "The Fibonnaci term at [index, fib] is [222, 11111460156937785151929026842503960837766832936]\n",
      "The Fibonnaci term at [index, fib] is [223, 17978720198565577104981084195586024127087428957]\n",
      "The Fibonnaci term at [index, fib] is [224, 29090180355503362256910111038089984964854261893]\n",
      "The Fibonnaci term at [index, fib] is [225, 47068900554068939361891195233676009091941690850]\n",
      "The Fibonnaci term at [index, fib] is [226, 76159080909572301618801306271765994056795952743]\n",
      "The Fibonnaci term at [index, fib] is [227, 123227981463641240980692501505442003148737643593]\n",
      "The Fibonnaci term at [index, fib] is [228, 199387062373213542599493807777207997205533596336]\n",
      "The Fibonnaci term at [index, fib] is [229, 322615043836854783580186309282650000354271239929]\n",
      "The Fibonnaci term at [index, fib] is [230, 522002106210068326179680117059857997559804836265]\n",
      "The Fibonnaci term at [index, fib] is [231, 844617150046923109759866426342507997914076076194]\n",
      "The Fibonnaci term at [index, fib] is [232, 1366619256256991435939546543402365995473880912459]\n",
      "The Fibonnaci term at [index, fib] is [233, 2211236406303914545699412969744873993387956988653]\n",
      "The Fibonnaci term at [index, fib] is [234, 3577855662560905981638959513147239988861837901112]\n",
      "The Fibonnaci term at [index, fib] is [2, 1]\n",
      "The Fibonnaci term at [index, fib] is [3, 2]\n",
      "The Fibonnaci term at [index, fib] is [4, 3]\n",
      "The Fibonnaci term at [index, fib] is [5, 5]\n",
      "The Fibonnaci term at [index, fib] is [6, 8]\n",
      "The Fibonnaci term at [index, fib] is [7, 13]\n",
      "The Fibonnaci term at [index, fib] is [8, 21]\n",
      "The Fibonnaci term at [index, fib] is [9, 34]\n",
      "The Fibonnaci term at [index, fib] is [10, 55]\n",
      "The Fibonnaci term at [index, fib] is [11, 89]\n",
      "The Fibonnaci term at [index, fib] is [12, 144]\n",
      "The Fibonnaci term at [index, fib] is [13, 233]\n",
      "The Fibonnaci term at [index, fib] is [14, 377]\n",
      "The Fibonnaci term at [index, fib] is [15, 610]\n",
      "The Fibonnaci term at [index, fib] is [16, 987]\n",
      "The Fibonnaci term at [index, fib] is [17, 1597]\n",
      "The Fibonnaci term at [index, fib] is [18, 2584]\n",
      "The Fibonnaci term at [index, fib] is [19, 4181]\n",
      "The Fibonnaci term at [index, fib] is [20, 6765]\n",
      "The Fibonnaci term at [index, fib] is [21, 10946]\n",
      "The Fibonnaci term at [index, fib] is [22, 17711]\n",
      "The Fibonnaci term at [index, fib] is [23, 28657]\n",
      "The Fibonnaci term at [index, fib] is [24, 46368]\n",
      "The Fibonnaci term at [index, fib] is [25, 75025]\n",
      "The Fibonnaci term at [index, fib] is [26, 121393]\n",
      "The Fibonnaci term at [index, fib] is [27, 196418]\n",
      "The Fibonnaci term at [index, fib] is [28, 317811]\n",
      "The Fibonnaci term at [index, fib] is [29, 514229]\n",
      "The Fibonnaci term at [index, fib] is [30, 832040]\n",
      "The Fibonnaci term at [index, fib] is [31, 1346269]\n",
      "The Fibonnaci term at [index, fib] is [32, 2178309]\n",
      "The Fibonnaci term at [index, fib] is [33, 3524578]\n",
      "The Fibonnaci term at [index, fib] is [34, 5702887]\n",
      "The Fibonnaci term at [index, fib] is [35, 9227465]\n",
      "The Fibonnaci term at [index, fib] is [36, 14930352]\n",
      "The Fibonnaci term at [index, fib] is [37, 24157817]\n",
      "The Fibonnaci term at [index, fib] is [38, 39088169]\n",
      "The Fibonnaci term at [index, fib] is [39, 63245986]\n",
      "The Fibonnaci term at [index, fib] is [40, 102334155]\n",
      "The Fibonnaci term at [index, fib] is [41, 165580141]\n",
      "The Fibonnaci term at [index, fib] is [42, 267914296]\n",
      "The Fibonnaci term at [index, fib] is [43, 433494437]\n",
      "The Fibonnaci term at [index, fib] is [44, 701408733]\n",
      "The Fibonnaci term at [index, fib] is [45, 1134903170]\n",
      "The Fibonnaci term at [index, fib] is [46, 1836311903]\n",
      "The Fibonnaci term at [index, fib] is [47, 2971215073]\n",
      "The Fibonnaci term at [index, fib] is [48, 4807526976]\n",
      "The Fibonnaci term at [index, fib] is [49, 7778742049]\n",
      "The Fibonnaci term at [index, fib] is [50, 12586269025]\n",
      "The Fibonnaci term at [index, fib] is [51, 20365011074]\n",
      "The Fibonnaci term at [index, fib] is [52, 32951280099]\n",
      "The Fibonnaci term at [index, fib] is [53, 53316291173]\n",
      "The Fibonnaci term at [index, fib] is [54, 86267571272]\n",
      "The Fibonnaci term at [index, fib] is [55, 139583862445]\n",
      "The Fibonnaci term at [index, fib] is [56, 225851433717]\n",
      "The Fibonnaci term at [index, fib] is [57, 365435296162]\n",
      "The Fibonnaci term at [index, fib] is [58, 591286729879]\n",
      "The Fibonnaci term at [index, fib] is [59, 956722026041]\n",
      "The Fibonnaci term at [index, fib] is [60, 1548008755920]\n",
      "The Fibonnaci term at [index, fib] is [61, 2504730781961]\n",
      "The Fibonnaci term at [index, fib] is [62, 4052739537881]\n",
      "The Fibonnaci term at [index, fib] is [63, 6557470319842]\n",
      "The Fibonnaci term at [index, fib] is [64, 10610209857723]\n",
      "The Fibonnaci term at [index, fib] is [65, 17167680177565]\n",
      "The Fibonnaci term at [index, fib] is [66, 27777890035288]\n",
      "The Fibonnaci term at [index, fib] is [67, 44945570212853]\n",
      "The Fibonnaci term at [index, fib] is [68, 72723460248141]\n",
      "The Fibonnaci term at [index, fib] is [69, 117669030460994]\n",
      "The Fibonnaci term at [index, fib] is [70, 190392490709135]\n",
      "The Fibonnaci term at [index, fib] is [71, 308061521170129]\n",
      "The Fibonnaci term at [index, fib] is [72, 498454011879264]\n",
      "The Fibonnaci term at [index, fib] is [73, 806515533049393]\n",
      "The Fibonnaci term at [index, fib] is [74, 1304969544928657]\n",
      "The Fibonnaci term at [index, fib] is [75, 2111485077978050]\n",
      "The Fibonnaci term at [index, fib] is [76, 3416454622906707]\n",
      "The Fibonnaci term at [index, fib] is [77, 5527939700884757]\n",
      "The Fibonnaci term at [index, fib] is [78, 8944394323791464]\n",
      "The Fibonnaci term at [index, fib] is [79, 14472334024676221]\n",
      "The Fibonnaci term at [index, fib] is [80, 23416728348467685]\n",
      "The Fibonnaci term at [index, fib] is [81, 37889062373143906]\n",
      "The Fibonnaci term at [index, fib] is [82, 61305790721611591]\n",
      "The Fibonnaci term at [index, fib] is [83, 99194853094755497]\n",
      "The Fibonnaci term at [index, fib] is [84, 160500643816367088]\n",
      "The Fibonnaci term at [index, fib] is [85, 259695496911122585]\n",
      "The Fibonnaci term at [index, fib] is [86, 420196140727489673]\n",
      "The Fibonnaci term at [index, fib] is [87, 679891637638612258]\n",
      "The Fibonnaci term at [index, fib] is [88, 1100087778366101931]\n",
      "The Fibonnaci term at [index, fib] is [89, 1779979416004714189]\n",
      "The Fibonnaci term at [index, fib] is [90, 2880067194370816120]\n",
      "The Fibonnaci term at [index, fib] is [91, 4660046610375530309]\n",
      "The Fibonnaci term at [index, fib] is [92, 7540113804746346429]\n",
      "The Fibonnaci term at [index, fib] is [93, 12200160415121876738]\n",
      "The Fibonnaci term at [index, fib] is [94, 19740274219868223167]\n",
      "The Fibonnaci term at [index, fib] is [95, 31940434634990099905]\n",
      "The Fibonnaci term at [index, fib] is [96, 51680708854858323072]\n",
      "The Fibonnaci term at [index, fib] is [97, 83621143489848422977]\n",
      "The Fibonnaci term at [index, fib] is [98, 135301852344706746049]\n",
      "The Fibonnaci term at [index, fib] is [99, 218922995834555169026]\n",
      "The Fibonnaci term at [index, fib] is [100, 354224848179261915075]\n",
      "The Fibonnaci term at [index, fib] is [101, 573147844013817084101]\n",
      "The Fibonnaci term at [index, fib] is [102, 927372692193078999176]\n",
      "The Fibonnaci term at [index, fib] is [103, 1500520536206896083277]\n",
      "The Fibonnaci term at [index, fib] is [104, 2427893228399975082453]\n",
      "The Fibonnaci term at [index, fib] is [105, 3928413764606871165730]\n",
      "The Fibonnaci term at [index, fib] is [106, 6356306993006846248183]\n",
      "The Fibonnaci term at [index, fib] is [107, 10284720757613717413913]\n",
      "The Fibonnaci term at [index, fib] is [108, 16641027750620563662096]\n",
      "The Fibonnaci term at [index, fib] is [109, 26925748508234281076009]\n",
      "The Fibonnaci term at [index, fib] is [110, 43566776258854844738105]\n",
      "The Fibonnaci term at [index, fib] is [111, 70492524767089125814114]\n",
      "The Fibonnaci term at [index, fib] is [112, 114059301025943970552219]\n",
      "The Fibonnaci term at [index, fib] is [113, 184551825793033096366333]\n",
      "The Fibonnaci term at [index, fib] is [114, 298611126818977066918552]\n",
      "The Fibonnaci term at [index, fib] is [115, 483162952612010163284885]\n",
      "The Fibonnaci term at [index, fib] is [116, 781774079430987230203437]\n",
      "The Fibonnaci term at [index, fib] is [117, 1264937032042997393488322]\n",
      "The Fibonnaci term at [index, fib] is [118, 2046711111473984623691759]\n",
      "The Fibonnaci term at [index, fib] is [119, 3311648143516982017180081]\n",
      "The Fibonnaci term at [index, fib] is [120, 5358359254990966640871840]\n",
      "The Fibonnaci term at [index, fib] is [121, 8670007398507948658051921]\n",
      "The Fibonnaci term at [index, fib] is [122, 14028366653498915298923761]\n",
      "The Fibonnaci term at [index, fib] is [123, 22698374052006863956975682]\n",
      "The Fibonnaci term at [index, fib] is [124, 36726740705505779255899443]\n",
      "The Fibonnaci term at [index, fib] is [125, 59425114757512643212875125]\n",
      "The Fibonnaci term at [index, fib] is [126, 96151855463018422468774568]\n",
      "The Fibonnaci term at [index, fib] is [127, 155576970220531065681649693]\n",
      "The Fibonnaci term at [index, fib] is [128, 251728825683549488150424261]\n",
      "The Fibonnaci term at [index, fib] is [129, 407305795904080553832073954]\n",
      "The Fibonnaci term at [index, fib] is [130, 659034621587630041982498215]\n",
      "The Fibonnaci term at [index, fib] is [131, 1066340417491710595814572169]\n",
      "The Fibonnaci term at [index, fib] is [132, 1725375039079340637797070384]\n",
      "The Fibonnaci term at [index, fib] is [133, 2791715456571051233611642553]\n",
      "The Fibonnaci term at [index, fib] is [134, 4517090495650391871408712937]\n",
      "The Fibonnaci term at [index, fib] is [135, 7308805952221443105020355490]\n",
      "The Fibonnaci term at [index, fib] is [136, 11825896447871834976429068427]\n",
      "The Fibonnaci term at [index, fib] is [137, 19134702400093278081449423917]\n",
      "The Fibonnaci term at [index, fib] is [138, 30960598847965113057878492344]\n",
      "The Fibonnaci term at [index, fib] is [139, 50095301248058391139327916261]\n",
      "The Fibonnaci term at [index, fib] is [140, 81055900096023504197206408605]\n",
      "The Fibonnaci term at [index, fib] is [141, 131151201344081895336534324866]\n",
      "The Fibonnaci term at [index, fib] is [142, 212207101440105399533740733471]\n",
      "The Fibonnaci term at [index, fib] is [143, 343358302784187294870275058337]\n",
      "The Fibonnaci term at [index, fib] is [144, 555565404224292694404015791808]\n",
      "The Fibonnaci term at [index, fib] is [145, 898923707008479989274290850145]\n",
      "The Fibonnaci term at [index, fib] is [146, 1454489111232772683678306641953]\n",
      "The Fibonnaci term at [index, fib] is [147, 2353412818241252672952597492098]\n",
      "The Fibonnaci term at [index, fib] is [148, 3807901929474025356630904134051]\n",
      "The Fibonnaci term at [index, fib] is [149, 6161314747715278029583501626149]\n",
      "The Fibonnaci term at [index, fib] is [150, 9969216677189303386214405760200]\n",
      "The Fibonnaci term at [index, fib] is [151, 16130531424904581415797907386349]\n",
      "The Fibonnaci term at [index, fib] is [152, 26099748102093884802012313146549]\n",
      "The Fibonnaci term at [index, fib] is [153, 42230279526998466217810220532898]\n",
      "The Fibonnaci term at [index, fib] is [154, 68330027629092351019822533679447]\n",
      "The Fibonnaci term at [index, fib] is [155, 110560307156090817237632754212345]\n",
      "The Fibonnaci term at [index, fib] is [156, 178890334785183168257455287891792]\n",
      "The Fibonnaci term at [index, fib] is [157, 289450641941273985495088042104137]\n",
      "The Fibonnaci term at [index, fib] is [158, 468340976726457153752543329995929]\n",
      "The Fibonnaci term at [index, fib] is [159, 757791618667731139247631372100066]\n",
      "The Fibonnaci term at [index, fib] is [160, 1226132595394188293000174702095995]\n",
      "The Fibonnaci term at [index, fib] is [161, 1983924214061919432247806074196061]\n",
      "The Fibonnaci term at [index, fib] is [162, 3210056809456107725247980776292056]\n",
      "The Fibonnaci term at [index, fib] is [163, 5193981023518027157495786850488117]\n",
      "The Fibonnaci term at [index, fib] is [164, 8404037832974134882743767626780173]\n",
      "The Fibonnaci term at [index, fib] is [165, 13598018856492162040239554477268290]\n",
      "The Fibonnaci term at [index, fib] is [166, 22002056689466296922983322104048463]\n",
      "The Fibonnaci term at [index, fib] is [167, 35600075545958458963222876581316753]\n",
      "The Fibonnaci term at [index, fib] is [168, 57602132235424755886206198685365216]\n",
      "The Fibonnaci term at [index, fib] is [169, 93202207781383214849429075266681969]\n",
      "The Fibonnaci term at [index, fib] is [170, 150804340016807970735635273952047185]\n",
      "The Fibonnaci term at [index, fib] is [171, 244006547798191185585064349218729154]\n",
      "The Fibonnaci term at [index, fib] is [172, 394810887814999156320699623170776339]\n",
      "The Fibonnaci term at [index, fib] is [173, 638817435613190341905763972389505493]\n",
      "The Fibonnaci term at [index, fib] is [174, 1033628323428189498226463595560281832]\n",
      "The Fibonnaci term at [index, fib] is [175, 1672445759041379840132227567949787325]\n",
      "The Fibonnaci term at [index, fib] is [176, 2706074082469569338358691163510069157]\n",
      "The Fibonnaci term at [index, fib] is [177, 4378519841510949178490918731459856482]\n",
      "The Fibonnaci term at [index, fib] is [178, 7084593923980518516849609894969925639]\n",
      "The Fibonnaci term at [index, fib] is [179, 11463113765491467695340528626429782121]\n",
      "The Fibonnaci term at [index, fib] is [180, 18547707689471986212190138521399707760]\n",
      "The Fibonnaci term at [index, fib] is [181, 30010821454963453907530667147829489881]\n",
      "The Fibonnaci term at [index, fib] is [182, 48558529144435440119720805669229197641]\n",
      "The Fibonnaci term at [index, fib] is [183, 78569350599398894027251472817058687522]\n",
      "The Fibonnaci term at [index, fib] is [184, 127127879743834334146972278486287885163]\n",
      "The Fibonnaci term at [index, fib] is [185, 205697230343233228174223751303346572685]\n",
      "The Fibonnaci term at [index, fib] is [186, 332825110087067562321196029789634457848]\n",
      "The Fibonnaci term at [index, fib] is [187, 538522340430300790495419781092981030533]\n",
      "The Fibonnaci term at [index, fib] is [188, 871347450517368352816615810882615488381]\n",
      "The Fibonnaci term at [index, fib] is [189, 1409869790947669143312035591975596518914]\n",
      "The Fibonnaci term at [index, fib] is [190, 2281217241465037496128651402858212007295]\n",
      "The Fibonnaci term at [index, fib] is [191, 3691087032412706639440686994833808526209]\n",
      "The Fibonnaci term at [index, fib] is [192, 5972304273877744135569338397692020533504]\n",
      "The Fibonnaci term at [index, fib] is [193, 9663391306290450775010025392525829059713]\n",
      "The Fibonnaci term at [index, fib] is [194, 15635695580168194910579363790217849593217]\n",
      "The Fibonnaci term at [index, fib] is [195, 25299086886458645685589389182743678652930]\n",
      "The Fibonnaci term at [index, fib] is [196, 40934782466626840596168752972961528246147]\n",
      "The Fibonnaci term at [index, fib] is [197, 66233869353085486281758142155705206899077]\n",
      "The Fibonnaci term at [index, fib] is [198, 107168651819712326877926895128666735145224]\n",
      "The Fibonnaci term at [index, fib] is [199, 173402521172797813159685037284371942044301]\n",
      "The Fibonnaci term at [index, fib] is [200, 280571172992510140037611932413038677189525]\n",
      "The Fibonnaci term at [index, fib] is [201, 453973694165307953197296969697410619233826]\n",
      "The Fibonnaci term at [index, fib] is [202, 734544867157818093234908902110449296423351]\n",
      "The Fibonnaci term at [index, fib] is [203, 1188518561323126046432205871807859915657177]\n",
      "The Fibonnaci term at [index, fib] is [204, 1923063428480944139667114773918309212080528]\n",
      "The Fibonnaci term at [index, fib] is [205, 3111581989804070186099320645726169127737705]\n",
      "The Fibonnaci term at [index, fib] is [206, 5034645418285014325766435419644478339818233]\n",
      "The Fibonnaci term at [index, fib] is [207, 8146227408089084511865756065370647467555938]\n",
      "The Fibonnaci term at [index, fib] is [208, 13180872826374098837632191485015125807374171]\n",
      "The Fibonnaci term at [index, fib] is [209, 21327100234463183349497947550385773274930109]\n",
      "The Fibonnaci term at [index, fib] is [210, 34507973060837282187130139035400899082304280]\n",
      "The Fibonnaci term at [index, fib] is [211, 55835073295300465536628086585786672357234389]\n",
      "The Fibonnaci term at [index, fib] is [212, 90343046356137747723758225621187571439538669]\n",
      "The Fibonnaci term at [index, fib] is [213, 146178119651438213260386312206974243796773058]\n",
      "The Fibonnaci term at [index, fib] is [214, 236521166007575960984144537828161815236311727]\n",
      "The Fibonnaci term at [index, fib] is [215, 382699285659014174244530850035136059033084785]\n",
      "The Fibonnaci term at [index, fib] is [216, 619220451666590135228675387863297874269396512]\n",
      "The Fibonnaci term at [index, fib] is [217, 1001919737325604309473206237898433933302481297]\n",
      "The Fibonnaci term at [index, fib] is [218, 1621140188992194444701881625761731807571877809]\n",
      "The Fibonnaci term at [index, fib] is [219, 2623059926317798754175087863660165740874359106]\n",
      "The Fibonnaci term at [index, fib] is [220, 4244200115309993198876969489421897548446236915]\n",
      "The Fibonnaci term at [index, fib] is [221, 6867260041627791953052057353082063289320596021]\n",
      "The Fibonnaci term at [index, fib] is [222, 11111460156937785151929026842503960837766832936]\n",
      "The Fibonnaci term at [index, fib] is [223, 17978720198565577104981084195586024127087428957]\n",
      "The Fibonnaci term at [index, fib] is [224, 29090180355503362256910111038089984964854261893]\n",
      "The Fibonnaci term at [index, fib] is [225, 47068900554068939361891195233676009091941690850]\n",
      "The Fibonnaci term at [index, fib] is [226, 76159080909572301618801306271765994056795952743]\n",
      "The Fibonnaci term at [index, fib] is [227, 123227981463641240980692501505442003148737643593]\n",
      "The Fibonnaci term at [index, fib] is [228, 199387062373213542599493807777207997205533596336]\n",
      "The Fibonnaci term at [index, fib] is [229, 322615043836854783580186309282650000354271239929]\n",
      "The Fibonnaci term at [index, fib] is [230, 522002106210068326179680117059857997559804836265]\n",
      "The Fibonnaci term at [index, fib] is [231, 844617150046923109759866426342507997914076076194]\n",
      "The Fibonnaci term at [index, fib] is [232, 1366619256256991435939546543402365995473880912459]\n",
      "The Fibonnaci term at [index, fib] is [233, 2211236406303914545699412969744873993387956988653]\n",
      "The Fibonnaci term at [index, fib] is [234, 3577855662560905981638959513147239988861837901112]\n"
     ]
    }
   ],
   "source": [
    "f=fib2(234)\n",
    "g=bulk_prime_check(fib2(234))"
   ]
  },
  {
   "cell_type": "code",
   "execution_count": 218,
   "metadata": {},
   "outputs": [
    {
     "name": "stdout",
     "output_type": "stream",
     "text": [
      "Term 0 is 1 with Prime : False\n",
      "Term 1 is 2 with Prime : True\n",
      "Term 2 is 3 with Prime : True\n",
      "Term 3 is 5 with Prime : True\n",
      "Term 4 is 8 with Prime : False\n",
      "Term 5 is 13 with Prime : True\n",
      "Term 6 is 21 with Prime : False\n",
      "Term 7 is 34 with Prime : False\n",
      "Term 8 is 55 with Prime : False\n",
      "Term 9 is 89 with Prime : True\n",
      "Term 10 is 144 with Prime : False\n",
      "Term 11 is 233 with Prime : True\n",
      "Term 12 is 377 with Prime : False\n",
      "Term 13 is 610 with Prime : False\n",
      "Term 14 is 987 with Prime : False\n",
      "Term 15 is 1597 with Prime : True\n",
      "Term 16 is 2584 with Prime : False\n",
      "Term 17 is 4181 with Prime : False\n",
      "Term 18 is 6765 with Prime : False\n",
      "Term 19 is 10946 with Prime : False\n",
      "Term 20 is 17711 with Prime : False\n",
      "Term 21 is 28657 with Prime : True\n",
      "Term 22 is 46368 with Prime : False\n",
      "Term 23 is 75025 with Prime : False\n",
      "Term 24 is 121393 with Prime : False\n",
      "Term 25 is 196418 with Prime : False\n",
      "Term 26 is 317811 with Prime : False\n",
      "Term 27 is 514229 with Prime : True\n",
      "Term 28 is 832040 with Prime : False\n",
      "Term 29 is 1346269 with Prime : False\n",
      "Term 30 is 2178309 with Prime : False\n",
      "Term 31 is 3524578 with Prime : False\n",
      "Term 32 is 5702887 with Prime : False\n",
      "Term 33 is 9227465 with Prime : False\n",
      "Term 34 is 14930352 with Prime : False\n",
      "Term 35 is 24157817 with Prime : False\n",
      "Term 36 is 39088169 with Prime : False\n",
      "Term 37 is 63245986 with Prime : False\n",
      "Term 38 is 102334155 with Prime : False\n",
      "Term 39 is 165580141 with Prime : False\n",
      "Term 40 is 267914296 with Prime : False\n",
      "Term 41 is 433494437 with Prime : True\n",
      "Term 42 is 701408733 with Prime : False\n",
      "Term 43 is 1134903170 with Prime : False\n",
      "Term 44 is 1836311903 with Prime : False\n",
      "Term 45 is 2971215073 with Prime : True\n",
      "Term 46 is 4807526976 with Prime : False\n",
      "Term 47 is 7778742049 with Prime : False\n",
      "Term 48 is 12586269025 with Prime : False\n",
      "Term 49 is 20365011074 with Prime : False\n",
      "Term 50 is 32951280099 with Prime : False\n",
      "Term 51 is 53316291173 with Prime : False\n",
      "Term 52 is 86267571272 with Prime : False\n",
      "Term 53 is 139583862445 with Prime : False\n",
      "Term 54 is 225851433717 with Prime : False\n",
      "Term 55 is 365435296162 with Prime : False\n",
      "Term 56 is 591286729879 with Prime : False\n",
      "Term 57 is 956722026041 with Prime : False\n",
      "Term 58 is 1548008755920 with Prime : False\n",
      "Term 59 is 2504730781961 with Prime : False\n",
      "Term 60 is 4052739537881 with Prime : False\n",
      "Term 61 is 6557470319842 with Prime : False\n",
      "Term 62 is 10610209857723 with Prime : False\n",
      "Term 63 is 17167680177565 with Prime : False\n",
      "Term 64 is 27777890035288 with Prime : False\n",
      "Term 65 is 44945570212853 with Prime : False\n",
      "Term 66 is 72723460248141 with Prime : False\n",
      "Term 67 is 117669030460994 with Prime : False\n",
      "Term 68 is 190392490709135 with Prime : False\n",
      "Term 69 is 308061521170129 with Prime : False\n",
      "Term 70 is 498454011879264 with Prime : False\n",
      "Term 71 is 806515533049393 with Prime : False\n",
      "Term 72 is 1304969544928657 with Prime : False\n",
      "Term 73 is 2111485077978050 with Prime : False\n",
      "Term 74 is 3416454622906707 with Prime : False\n",
      "Term 75 is 5527939700884757 with Prime : False\n",
      "Term 76 is 8944394323791464 with Prime : False\n",
      "Term 77 is 14472334024676221 with Prime : False\n",
      "Term 78 is 23416728348467685 with Prime : False\n",
      "Term 79 is 37889062373143906 with Prime : False\n",
      "Term 80 is 61305790721611591 with Prime : False\n",
      "Term 81 is 99194853094755497 with Prime : True\n",
      "Term 82 is 160500643816367088 with Prime : False\n",
      "Term 83 is 259695496911122585 with Prime : False\n",
      "Term 84 is 420196140727489673 with Prime : False\n",
      "Term 85 is 679891637638612258 with Prime : False\n",
      "Term 86 is 1100087778366101931 with Prime : False\n",
      "Term 87 is 1779979416004714189 with Prime : False\n",
      "Term 88 is 2880067194370816120 with Prime : False\n",
      "Term 89 is 4660046610375530309 with Prime : False\n",
      "Term 90 is 7540113804746346429 with Prime : False\n",
      "Term 91 is 12200160415121876738 with Prime : False\n",
      "Term 92 is 19740274219868223167 with Prime : False\n",
      "Term 93 is 31940434634990099905 with Prime : False\n",
      "Term 94 is 51680708854858323072 with Prime : False\n",
      "Term 95 is 83621143489848422977 with Prime : False\n",
      "Term 96 is 135301852344706746049 with Prime : False\n",
      "Term 97 is 218922995834555169026 with Prime : False\n",
      "Term 98 is 354224848179261915075 with Prime : False\n",
      "Term 99 is 573147844013817084101 with Prime : False\n",
      "Term 100 is 927372692193078999176 with Prime : False\n",
      "Term 101 is 1500520536206896083277 with Prime : False\n",
      "Term 102 is 2427893228399975082453 with Prime : False\n",
      "Term 103 is 3928413764606871165730 with Prime : False\n",
      "Term 104 is 6356306993006846248183 with Prime : False\n",
      "Term 105 is 10284720757613717413913 with Prime : False\n",
      "Term 106 is 16641027750620563662096 with Prime : False\n",
      "Term 107 is 26925748508234281076009 with Prime : False\n",
      "Term 108 is 43566776258854844738105 with Prime : False\n",
      "Term 109 is 70492524767089125814114 with Prime : False\n",
      "Term 110 is 114059301025943970552219 with Prime : False\n",
      "Term 111 is 184551825793033096366333 with Prime : False\n",
      "Term 112 is 298611126818977066918552 with Prime : False\n",
      "Term 113 is 483162952612010163284885 with Prime : False\n",
      "Term 114 is 781774079430987230203437 with Prime : False\n",
      "Term 115 is 1264937032042997393488322 with Prime : False\n",
      "Term 116 is 2046711111473984623691759 with Prime : False\n",
      "Term 117 is 3311648143516982017180081 with Prime : False\n",
      "Term 118 is 5358359254990966640871840 with Prime : False\n",
      "Term 119 is 8670007398507948658051921 with Prime : False\n",
      "Term 120 is 14028366653498915298923761 with Prime : False\n",
      "Term 121 is 22698374052006863956975682 with Prime : False\n",
      "Term 122 is 36726740705505779255899443 with Prime : False\n",
      "Term 123 is 59425114757512643212875125 with Prime : False\n",
      "Term 124 is 96151855463018422468774568 with Prime : False\n",
      "Term 125 is 155576970220531065681649693 with Prime : False\n",
      "Term 126 is 251728825683549488150424261 with Prime : False\n",
      "Term 127 is 407305795904080553832073954 with Prime : False\n",
      "Term 128 is 659034621587630041982498215 with Prime : False\n",
      "Term 129 is 1066340417491710595814572169 with Prime : True\n",
      "Term 130 is 1725375039079340637797070384 with Prime : False\n",
      "Term 131 is 2791715456571051233611642553 with Prime : False\n",
      "Term 132 is 4517090495650391871408712937 with Prime : False\n",
      "Term 133 is 7308805952221443105020355490 with Prime : False\n",
      "Term 134 is 11825896447871834976429068427 with Prime : False\n",
      "Term 135 is 19134702400093278081449423917 with Prime : True\n",
      "Term 136 is 30960598847965113057878492344 with Prime : False\n",
      "Term 137 is 50095301248058391139327916261 with Prime : False\n",
      "Term 138 is 81055900096023504197206408605 with Prime : False\n",
      "Term 139 is 131151201344081895336534324866 with Prime : False\n",
      "Term 140 is 212207101440105399533740733471 with Prime : False\n",
      "Term 141 is 343358302784187294870275058337 with Prime : False\n",
      "Term 142 is 555565404224292694404015791808 with Prime : False\n",
      "Term 143 is 898923707008479989274290850145 with Prime : False\n",
      "Term 144 is 1454489111232772683678306641953 with Prime : False\n",
      "Term 145 is 2353412818241252672952597492098 with Prime : False\n",
      "Term 146 is 3807901929474025356630904134051 with Prime : False\n",
      "Term 147 is 6161314747715278029583501626149 with Prime : False\n",
      "Term 148 is 9969216677189303386214405760200 with Prime : False\n",
      "Term 149 is 16130531424904581415797907386349 with Prime : False\n",
      "Term 150 is 26099748102093884802012313146549 with Prime : False\n",
      "Term 151 is 42230279526998466217810220532898 with Prime : False\n",
      "Term 152 is 68330027629092351019822533679447 with Prime : False\n",
      "Term 153 is 110560307156090817237632754212345 with Prime : False\n",
      "Term 154 is 178890334785183168257455287891792 with Prime : False\n",
      "Term 155 is 289450641941273985495088042104137 with Prime : False\n",
      "Term 156 is 468340976726457153752543329995929 with Prime : False\n",
      "Term 157 is 757791618667731139247631372100066 with Prime : False\n",
      "Term 158 is 1226132595394188293000174702095995 with Prime : False\n",
      "Term 159 is 1983924214061919432247806074196061 with Prime : False\n",
      "Term 160 is 3210056809456107725247980776292056 with Prime : False\n",
      "Term 161 is 5193981023518027157495786850488117 with Prime : False\n",
      "Term 162 is 8404037832974134882743767626780173 with Prime : False\n",
      "Term 163 is 13598018856492162040239554477268290 with Prime : False\n",
      "Term 164 is 22002056689466296922983322104048463 with Prime : False\n",
      "Term 165 is 35600075545958458963222876581316753 with Prime : False\n",
      "Term 166 is 57602132235424755886206198685365216 with Prime : False\n",
      "Term 167 is 93202207781383214849429075266681969 with Prime : False\n",
      "Term 168 is 150804340016807970735635273952047185 with Prime : False\n",
      "Term 169 is 244006547798191185585064349218729154 with Prime : False\n",
      "Term 170 is 394810887814999156320699623170776339 with Prime : False\n",
      "Term 171 is 638817435613190341905763972389505493 with Prime : False\n",
      "Term 172 is 1033628323428189498226463595560281832 with Prime : False\n",
      "Term 173 is 1672445759041379840132227567949787325 with Prime : False\n",
      "Term 174 is 2706074082469569338358691163510069157 with Prime : False\n",
      "Term 175 is 4378519841510949178490918731459856482 with Prime : False\n",
      "Term 176 is 7084593923980518516849609894969925639 with Prime : False\n",
      "Term 177 is 11463113765491467695340528626429782121 with Prime : False\n",
      "Term 178 is 18547707689471986212190138521399707760 with Prime : False\n",
      "Term 179 is 30010821454963453907530667147829489881 with Prime : False\n",
      "Term 180 is 48558529144435440119720805669229197641 with Prime : False\n",
      "Term 181 is 78569350599398894027251472817058687522 with Prime : False\n",
      "Term 182 is 127127879743834334146972278486287885163 with Prime : False\n",
      "Term 183 is 205697230343233228174223751303346572685 with Prime : False\n",
      "Term 184 is 332825110087067562321196029789634457848 with Prime : False\n",
      "Term 185 is 538522340430300790495419781092981030533 with Prime : False\n",
      "Term 186 is 871347450517368352816615810882615488381 with Prime : False\n",
      "Term 187 is 1409869790947669143312035591975596518914 with Prime : False\n",
      "Term 188 is 2281217241465037496128651402858212007295 with Prime : False\n",
      "Term 189 is 3691087032412706639440686994833808526209 with Prime : False\n",
      "Term 190 is 5972304273877744135569338397692020533504 with Prime : False\n",
      "Term 191 is 9663391306290450775010025392525829059713 with Prime : False\n",
      "Term 192 is 15635695580168194910579363790217849593217 with Prime : False\n",
      "Term 193 is 25299086886458645685589389182743678652930 with Prime : False\n",
      "Term 194 is 40934782466626840596168752972961528246147 with Prime : False\n",
      "Term 195 is 66233869353085486281758142155705206899077 with Prime : False\n",
      "Term 196 is 107168651819712326877926895128666735145224 with Prime : False\n",
      "Term 197 is 173402521172797813159685037284371942044301 with Prime : False\n",
      "Term 198 is 280571172992510140037611932413038677189525 with Prime : False\n",
      "Term 199 is 453973694165307953197296969697410619233826 with Prime : False\n",
      "Term 200 is 734544867157818093234908902110449296423351 with Prime : False\n",
      "Term 201 is 1188518561323126046432205871807859915657177 with Prime : False\n",
      "Term 202 is 1923063428480944139667114773918309212080528 with Prime : False\n",
      "Term 203 is 3111581989804070186099320645726169127737705 with Prime : False\n",
      "Term 204 is 5034645418285014325766435419644478339818233 with Prime : False\n",
      "Term 205 is 8146227408089084511865756065370647467555938 with Prime : False\n",
      "Term 206 is 13180872826374098837632191485015125807374171 with Prime : False\n",
      "Term 207 is 21327100234463183349497947550385773274930109 with Prime : False\n",
      "Term 208 is 34507973060837282187130139035400899082304280 with Prime : False\n",
      "Term 209 is 55835073295300465536628086585786672357234389 with Prime : False\n",
      "Term 210 is 90343046356137747723758225621187571439538669 with Prime : False\n",
      "Term 211 is 146178119651438213260386312206974243796773058 with Prime : False\n",
      "Term 212 is 236521166007575960984144537828161815236311727 with Prime : False\n",
      "Term 213 is 382699285659014174244530850035136059033084785 with Prime : False\n",
      "Term 214 is 619220451666590135228675387863297874269396512 with Prime : False\n",
      "Term 215 is 1001919737325604309473206237898433933302481297 with Prime : False\n",
      "Term 216 is 1621140188992194444701881625761731807571877809 with Prime : False\n",
      "Term 217 is 2623059926317798754175087863660165740874359106 with Prime : False\n",
      "Term 218 is 4244200115309993198876969489421897548446236915 with Prime : False\n",
      "Term 219 is 6867260041627791953052057353082063289320596021 with Prime : False\n",
      "Term 220 is 11111460156937785151929026842503960837766832936 with Prime : False\n",
      "Term 221 is 17978720198565577104981084195586024127087428957 with Prime : False\n",
      "Term 222 is 29090180355503362256910111038089984964854261893 with Prime : False\n",
      "Term 223 is 47068900554068939361891195233676009091941690850 with Prime : False\n",
      "Term 224 is 76159080909572301618801306271765994056795952743 with Prime : False\n",
      "Term 225 is 123227981463641240980692501505442003148737643593 with Prime : False\n",
      "Term 226 is 199387062373213542599493807777207997205533596336 with Prime : False\n",
      "Term 227 is 322615043836854783580186309282650000354271239929 with Prime : False\n",
      "Term 228 is 522002106210068326179680117059857997559804836265 with Prime : False\n",
      "Term 229 is 844617150046923109759866426342507997914076076194 with Prime : False\n",
      "Term 230 is 1366619256256991435939546543402365995473880912459 with Prime : False\n",
      "Term 231 is 2211236406303914545699412969744873993387956988653 with Prime : False\n",
      "Term 232 is 3577855662560905981638959513147239988861837901112 with Prime : False\n"
     ]
    }
   ],
   "source": [
    "for i, e in enumerate(f):\n",
    "    print('Term {} is {} with Prime : {}'.format(i,e,g[i]))"
   ]
  },
  {
   "cell_type": "code",
   "execution_count": 219,
   "metadata": {},
   "outputs": [],
   "source": [
    "prime_dict=dict(zip(f,g))"
   ]
  },
  {
   "cell_type": "code",
   "execution_count": 220,
   "metadata": {},
   "outputs": [
    {
     "data": {
      "text/plain": [
       "False"
      ]
     },
     "execution_count": 220,
     "metadata": {},
     "output_type": "execute_result"
    }
   ],
   "source": [
    "prime_dict[27777890035288]"
   ]
  },
  {
   "cell_type": "code",
   "execution_count": 13,
   "metadata": {},
   "outputs": [],
   "source": [
    "a,b, *rest=[1,2,3,4,5,6,7,8,9]"
   ]
  },
  {
   "cell_type": "code",
   "execution_count": 14,
   "metadata": {},
   "outputs": [
    {
     "data": {
      "text/plain": [
       "(1, 2, [3, 4, 5, 6, 7, 8, 9])"
      ]
     },
     "execution_count": 14,
     "metadata": {},
     "output_type": "execute_result"
    }
   ],
   "source": [
    "a,b,rest"
   ]
  },
  {
   "cell_type": "code",
   "execution_count": null,
   "metadata": {},
   "outputs": [],
   "source": [
    "if a==b:\n",
    "    pass\n",
    "elif :\n",
    "    pass:\n",
    "    "
   ]
  },
  {
   "cell_type": "code",
   "execution_count": 117,
   "metadata": {},
   "outputs": [],
   "source": [
    "import sympy as sym"
   ]
  },
  {
   "cell_type": "code",
   "execution_count": 131,
   "metadata": {},
   "outputs": [
    {
     "data": {
      "text/plain": [
       "False"
      ]
     },
     "execution_count": 131,
     "metadata": {},
     "output_type": "execute_result"
    }
   ],
   "source": [
    "sym.isprime(707317)"
   ]
  },
  {
   "cell_type": "code",
   "execution_count": null,
   "metadata": {},
   "outputs": [],
   "source": []
  }
 ],
 "metadata": {
  "kernelspec": {
   "display_name": "Python 3",
   "language": "python",
   "name": "python3"
  },
  "language_info": {
   "codemirror_mode": {
    "name": "ipython",
    "version": 3
   },
   "file_extension": ".py",
   "mimetype": "text/x-python",
   "name": "python",
   "nbconvert_exporter": "python",
   "pygments_lexer": "ipython3",
   "version": "3.6.4"
  }
 },
 "nbformat": 4,
 "nbformat_minor": 2
}
