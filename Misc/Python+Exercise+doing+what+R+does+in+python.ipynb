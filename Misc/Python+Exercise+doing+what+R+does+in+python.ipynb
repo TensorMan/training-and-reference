{
 "cells": [
  {
   "cell_type": "code",
   "execution_count": 3,
   "metadata": {},
   "outputs": [
    {
     "ename": "ImmediateDeprecationError",
     "evalue": "\nYahoo Daily has been immediately deprecated due to large breaks in the API without the\nintroduction of a stable replacement. Pull Requests to re-enable these data\nconnectors are welcome.\n\nSee https://github.com/pydata/pandas-datareader/issues\n",
     "output_type": "error",
     "traceback": [
      "\u001b[0;31m---------------------------------------------------------------------------\u001b[0m",
      "\u001b[0;31mImmediateDeprecationError\u001b[0m                 Traceback (most recent call last)",
      "\u001b[0;32m<ipython-input-3-9a526772bc9d>\u001b[0m in \u001b[0;36m<module>\u001b[0;34m()\u001b[0m\n\u001b[1;32m     12\u001b[0m \u001b[0;34m\u001b[0m\u001b[0m\n\u001b[1;32m     13\u001b[0m \u001b[0mstocks\u001b[0m\u001b[0;34m=\u001b[0m\u001b[0;34m[\u001b[0m\u001b[0;34m'GOOG'\u001b[0m\u001b[0;34m,\u001b[0m \u001b[0;34m'GSPC'\u001b[0m\u001b[0;34m]\u001b[0m\u001b[0;34m\u001b[0m\u001b[0m\n\u001b[0;32m---> 14\u001b[0;31m \u001b[0mp\u001b[0m\u001b[0;34m=\u001b[0m\u001b[0mdata\u001b[0m\u001b[0;34m.\u001b[0m\u001b[0mDataReader\u001b[0m\u001b[0;34m(\u001b[0m\u001b[0mstocks\u001b[0m\u001b[0;34m,\u001b[0m\u001b[0mdata_source\u001b[0m\u001b[0;34m=\u001b[0m\u001b[0;34m'yahoo'\u001b[0m\u001b[0;34m)\u001b[0m\u001b[0;34m[\u001b[0m\u001b[0;34m[\u001b[0m\u001b[0;34m'Adj Close'\u001b[0m\u001b[0;34m]\u001b[0m\u001b[0;34m]\u001b[0m\u001b[0;34m\u001b[0m\u001b[0m\n\u001b[0m\u001b[1;32m     15\u001b[0m \u001b[0mdf\u001b[0m\u001b[0;34m=\u001b[0m\u001b[0mp\u001b[0m\u001b[0;34m.\u001b[0m\u001b[0mix\u001b[0m\u001b[0;34m[\u001b[0m\u001b[0;36m0\u001b[0m\u001b[0;34m]\u001b[0m \u001b[0;31m#convert pandas \"panel\" to pandas \"data frame\"\u001b[0m\u001b[0;34m\u001b[0m\u001b[0m\n\u001b[1;32m     16\u001b[0m \u001b[0mdf\u001b[0m\u001b[0;34m=\u001b[0m\u001b[0mnp\u001b[0m\u001b[0;34m.\u001b[0m\u001b[0mlog\u001b[0m\u001b[0;34m(\u001b[0m\u001b[0mdf\u001b[0m\u001b[0;34m/\u001b[0m\u001b[0mdf\u001b[0m\u001b[0;34m.\u001b[0m\u001b[0mshift\u001b[0m\u001b[0;34m(\u001b[0m\u001b[0;36m1\u001b[0m\u001b[0;34m)\u001b[0m \u001b[0;34m)\u001b[0m\u001b[0;34m;\u001b[0m\u001b[0mdf\u001b[0m\u001b[0;34m=\u001b[0m\u001b[0mdf\u001b[0m\u001b[0;34m.\u001b[0m\u001b[0mdropna\u001b[0m\u001b[0;34m(\u001b[0m\u001b[0;34m)\u001b[0m\u001b[0;34m;\u001b[0m\u001b[0mplt\u001b[0m\u001b[0;34m.\u001b[0m\u001b[0mclose\u001b[0m\u001b[0;34m(\u001b[0m\u001b[0;34m)\u001b[0m\u001b[0;34m\u001b[0m\u001b[0m\n",
      "\u001b[0;32m/Users/jxb/anaconda/lib/python2.7/site-packages/pandas_datareader/data.pyc\u001b[0m in \u001b[0;36mDataReader\u001b[0;34m(name, data_source, start, end, retry_count, pause, session, access_key)\u001b[0m\n\u001b[1;32m    289\u001b[0m     \"\"\"\n\u001b[1;32m    290\u001b[0m     \u001b[0;32mif\u001b[0m \u001b[0mdata_source\u001b[0m \u001b[0;34m==\u001b[0m \u001b[0;34m\"yahoo\"\u001b[0m\u001b[0;34m:\u001b[0m\u001b[0;34m\u001b[0m\u001b[0m\n\u001b[0;32m--> 291\u001b[0;31m         \u001b[0;32mraise\u001b[0m \u001b[0mImmediateDeprecationError\u001b[0m\u001b[0;34m(\u001b[0m\u001b[0mDEP_ERROR_MSG\u001b[0m\u001b[0;34m.\u001b[0m\u001b[0mformat\u001b[0m\u001b[0;34m(\u001b[0m\u001b[0;34m'Yahoo Daily'\u001b[0m\u001b[0;34m)\u001b[0m\u001b[0;34m)\u001b[0m\u001b[0;34m\u001b[0m\u001b[0m\n\u001b[0m\u001b[1;32m    292\u001b[0m         return YahooDailyReader(symbols=name, start=start, end=end,\n\u001b[1;32m    293\u001b[0m                                 \u001b[0madjust_price\u001b[0m\u001b[0;34m=\u001b[0m\u001b[0mFalse\u001b[0m\u001b[0;34m,\u001b[0m \u001b[0mchunksize\u001b[0m\u001b[0;34m=\u001b[0m\u001b[0;36m25\u001b[0m\u001b[0;34m,\u001b[0m\u001b[0;34m\u001b[0m\u001b[0m\n",
      "\u001b[0;31mImmediateDeprecationError\u001b[0m: \nYahoo Daily has been immediately deprecated due to large breaks in the API without the\nintroduction of a stable replacement. Pull Requests to re-enable these data\nconnectors are welcome.\n\nSee https://github.com/pydata/pandas-datareader/issues\n"
     ]
    }
   ],
   "source": [
    "#Create OLS Python equivalent of R CAPM program with embellishments\n",
    "import matplotlib.pyplot as plt\n",
    "import pandas as pd\n",
    "# import pandas.io.data as pd_io\n",
    "from pandas_datareader import data, wb\n",
    "import statsmodels.formula.api as sm\n",
    "import seaborn as sns\n",
    "import numpy as np\n",
    "import scipy as sci\n",
    "import sklearn as skl\n",
    "#.metrics import confusion_matrix\n",
    "\n",
    "stocks=['GOOG', 'GSPC']\n",
    "p=data.DataReader(stocks,data_source='yahoo')[['Adj Close']]\n",
    "df=p.ix[0] #convert pandas \"panel\" to pandas \"data frame\"\n",
    "df=np.log(df/df.shift(1) );df=df.dropna();plt.close()\n",
    "plt.figure(figsize=(15,12))\n",
    "plt.xlabel(df.keys()[0]); plt.ylabel(df.keys()[1])\n",
    "plt.scatter(df['GOOG'].values, df['GSPC'].values);plt.show()\n",
    "reg=sm.ols('GOOG ~ GSPC', df).fit()\n",
    "plt.figure(figsize=(15,12))\n",
    "#now do plot using seaborn\n",
    "sns.lmplot(x=df.keys()[0],y=df.keys()[1],data=df, fit_reg=True,size=13); sns.plt.title('Seaborn \"lmplot\" regression')\n",
    "plt.show()\n",
    "o=df.describe()\n",
    "reg.summary()\n",
    "\n"
   ]
  },
  {
   "cell_type": "code",
   "execution_count": null,
   "metadata": {},
   "outputs": [],
   "source": [
    "#Create OLS Python equivalent of R CAPM program with embellishments\n",
    "import matplotlib.pyplot as plt\n",
    "import pandas as pd\n",
    "# import pandas.io.data as pd_io\n",
    "from pandas_datareader import data, wb\n",
    "import statsmodels.formula.api as sm\n",
    "import seaborn as sns\n",
    "import numpy as np\n",
    "import scipy as sci\n",
    "import sklearn as skl\n",
    "\n",
    "import quandl as q\n",
    "q.ApiConfig.api_key = '5_yUHi7UgDco-PFRX-g6'\n",
    "\n",
    "#.metrics import confusion_matrix\n",
    "\n",
    "stocks=['GOOG', 'GSPC']\n",
    "data= q.get(['WIKI/TSLA.4', 'WIKI/AAPL.4'], trim_start='2014-10-01', trim_end=today, transformation='rdiff')\n",
    "p=data.DataReader(stocks,data_source='yahoo')[['Adj Close']]\n",
    "df=p.ix[0] #convert pandas \"panel\" to pandas \"data frame\"\n",
    "df=np.log(df/df.shift(1) );df=df.dropna();plt.close()\n",
    "plt.figure(figsize=(15,12))\n",
    "plt.xlabel(df.keys()[0]); plt.ylabel(df.keys()[1])\n",
    "plt.scatter(df['GOOG'].values, df['GSPC'].values);plt.show()\n",
    "reg=sm.ols('GOOG ~ GSPC', df).fit()\n",
    "plt.figure(figsize=(15,12))\n",
    "#now do plot using seaborn\n",
    "sns.lmplot(x=df.keys()[0],y=df.keys()[1],data=df, fit_reg=True,size=13); sns.plt.title('Seaborn \"lmplot\" regression')\n",
    "plt.show()\n",
    "o=df.describe()\n",
    "reg.summary()"
   ]
  },
  {
   "cell_type": "code",
   "execution_count": null,
   "metadata": {},
   "outputs": [],
   "source": []
  }
 ],
 "metadata": {
  "anaconda-cloud": {},
  "kernelspec": {
   "display_name": "Python 2",
   "language": "python",
   "name": "python2"
  },
  "language_info": {
   "codemirror_mode": {
    "name": "ipython",
    "version": 2
   },
   "file_extension": ".py",
   "mimetype": "text/x-python",
   "name": "python",
   "nbconvert_exporter": "python",
   "pygments_lexer": "ipython2",
   "version": "2.7.13"
  }
 },
 "nbformat": 4,
 "nbformat_minor": 1
}
