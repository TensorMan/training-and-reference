{
 "cells": [
  {
   "cell_type": "code",
   "execution_count": null,
   "metadata": {},
   "outputs": [],
   "source": [
    "%matplotlib inline  \n",
    "%pylab inline"
   ]
  },
  {
   "cell_type": "code",
   "execution_count": null,
   "metadata": {},
   "outputs": [],
   "source": [
    "from pandas_datareader.iex.daily import IEXDailyReader\n",
    "import pandas as pd\n",
    "import datetime as dt\n",
    "IEX_token='sk_50446876d4364cc8b218b298207a8e8f'\n",
    "# symbols = ['GM', 'TSLA','AAPL', 'GOOG', 'MSFT','ZNGA', 'VIXY', 'SPY']\n",
    "symbols = ['GM', 'TSLA']\n",
    "start = dt.datetime(2017, 5, 4)\n",
    "end = dt.datetime(2020, 3, 31)\n",
    "# get OHLCV from iex (no more yahoo or google stock prices anymore)\n",
    "# Idiosyncrasy of DataReader is that the top level of column labels is OHLCV, and second level is TICKER\n",
    "# .iex.daily.IEXDailyReader\n",
    "# d=web.DataReader(\"AAPL\",'iex',start, api_key=IEX_token)\n",
    "# d=web.DataReader(\"AAPL\", 'iex', start=start, end=end, access_key=IEX_token)\n",
    "# web.IEXDailyReader()\n",
    "# web.pandas_datareader.\n",
    "dr=IEXDailyReader(symbols,start=start,end=end, api_key=IEX_token)\n",
    "d=dr.read()"
   ]
  },
  {
   "cell_type": "code",
   "execution_count": null,
   "metadata": {},
   "outputs": [],
   "source": [
    "%matplotlib inline  \n",
    "%pylab inline\n",
    "import datetime as dt\n",
    "import matplotlib.pyplot as plt\n",
    "plt.rcParams['figure.figsize'] = [15, 9]\n",
    "dt.date.today()\n",
    "d.plot()"
   ]
  },
  {
   "cell_type": "code",
   "execution_count": null,
   "metadata": {},
   "outputs": [],
   "source": [
    "idx = pd.IndexSlice\n",
    "d.columns\n",
    "# swap 1st 2 levels of column labels so OHLCV the SECOND level of column labels is OHLCV, and FIRST level is TICKER\n",
    "d.swaplevel(0,1,axis=1)\n"
   ]
  },
  {
   "cell_type": "code",
   "execution_count": null,
   "metadata": {},
   "outputs": [],
   "source": [
    "# Drop a column\n",
    "d.drop(labels=['volume'],axis=1)"
   ]
  },
  {
   "cell_type": "code",
   "execution_count": null,
   "metadata": {},
   "outputs": [],
   "source": [
    "# Drop lower level columns ('inplace' is False so df not changed)\n",
    "d.drop(labels=['GM','AAPL', 'VIXY'], axis=1, index=None, columns=None, level=1, inplace=False, errors='raise')"
   ]
  },
  {
   "cell_type": "code",
   "execution_count": null,
   "metadata": {},
   "outputs": [],
   "source": [
    "# help(d.columns)\n",
    "mi=d.columns\n",
    "d.columns"
   ]
  },
  {
   "cell_type": "code",
   "execution_count": null,
   "metadata": {},
   "outputs": [],
   "source": [
    "mi.get_loc_level('GM',1)"
   ]
  },
  {
   "cell_type": "code",
   "execution_count": null,
   "metadata": {
    "scrolled": false
   },
   "outputs": [],
   "source": [
    "# d['date'] = pd.to_datetime(d['date'])\n",
    "d.describe()"
   ]
  },
  {
   "cell_type": "code",
   "execution_count": null,
   "metadata": {
    "scrolled": true
   },
   "outputs": [],
   "source": [
    "# Use Boolean filting ('mask') and count - kewl:)\n",
    "d[d['volume']>=1000000].count()"
   ]
  },
  {
   "cell_type": "code",
   "execution_count": null,
   "metadata": {},
   "outputs": [],
   "source": [
    "# Use Boolean filting ('mask') and count - kewl:)\n",
    "d[d['high']>=d['low']*1.1].count()"
   ]
  },
  {
   "cell_type": "code",
   "execution_count": null,
   "metadata": {},
   "outputs": [],
   "source": [
    "# Calculate daily log returns\n",
    "rets=log(d/d.shift(1))\n",
    "rets"
   ]
  },
  {
   "cell_type": "code",
   "execution_count": null,
   "metadata": {},
   "outputs": [],
   "source": [
    "(d['close']['AAPL'].rolling(window=20).mean()-d['close']['AAPL']).plot(grid=True, style=['red'])\n",
    "d.index"
   ]
  },
  {
   "cell_type": "code",
   "execution_count": null,
   "metadata": {},
   "outputs": [],
   "source": [
    "# Calculate rolling/moving standard deviation over a window and plot\n",
    "rets['close']['GM'].rolling(window=20).std().plot(grid=True, style=['blue'])"
   ]
  },
  {
   "cell_type": "code",
   "execution_count": null,
   "metadata": {},
   "outputs": [],
   "source": [
    "# Now swap the column label levels permanently\n",
    "d.columns = d.columns.swaplevel(0, 1)\n",
    "d.sort_index(1, inplace=True)\n",
    "d.columns"
   ]
  },
  {
   "cell_type": "code",
   "execution_count": null,
   "metadata": {
    "scrolled": false
   },
   "outputs": [],
   "source": [
    "# d.drop(labels=['volume'], axis=1,inplace=True)\n",
    "d"
   ]
  },
  {
   "cell_type": "code",
   "execution_count": null,
   "metadata": {},
   "outputs": [],
   "source": [
    "import matplotlib.pyplot as plt, pylab as lab\n",
    "A=np.array([[0,.003],[1,1.1],[2,2.5],[3,3.29]])\n",
    "m,b=lab.polyfit(A[:,0],A[:,1],1)\n",
    "m,b\n",
    "plt.grid(axis='both')\n",
    "plt.scatter(A[:,0],A[:,1])\n",
    "plt.plot(A[:,0], m*A[:,0]+b)"
   ]
  },
  {
   "cell_type": "code",
   "execution_count": null,
   "metadata": {},
   "outputs": [],
   "source": [
    "import numpy as np\n",
    "import matplotlib.pyplot as plt\n",
    "from matplotlib import dates, ticker\n",
    "import matplotlib as mpl\n",
    "import mpl_finance as fin\n",
    "from mpl_finance import candlestick_ohlc "
   ]
  },
  {
   "cell_type": "code",
   "execution_count": null,
   "metadata": {},
   "outputs": [],
   "source": [
    "# OMG this was painful ... but instructive. I wanted to get \n",
    "# d=d.drop(labels=['volume'],axis=1, level=1)\n",
    "# d = d.drop('index', 1)\n",
    "k=d.index.tolist()\n",
    "# l=d['GM'].apply(tuple, axis=1).tolist()\n",
    "# Below reset_index causes index (timestamps as strings) to become ordinary column\n",
    "f=d['GM'].reset_index()\n",
    "# This applies(in map-style) function to convert time string in (new)'date' column\n",
    "f['date'] = f['date'].apply(lambda x : dt.datetime.strptime(x, \"%Y-%m-%d\").toordinal())\n",
    "# f.apply(tuple, axis=1).tolist()\n",
    "# filt=d.iloc[:, 0:4]\n",
    "# f=filt.reset_index(inplace=True)\n",
    "type(f.iloc[1,0])\n",
    "f"
   ]
  },
  {
   "cell_type": "code",
   "execution_count": null,
   "metadata": {},
   "outputs": [],
   "source": [
    "f.date"
   ]
  },
  {
   "cell_type": "code",
   "execution_count": null,
   "metadata": {},
   "outputs": [],
   "source": [
    "f.index\n",
    "f['Timestamp']=f['date']\n",
    "f = f.set_index(['Timestamp'])\n",
    "f.index = pd.to_datetime(f.index)\n",
    "f.resample('M')\n",
    "f"
   ]
  },
  {
   "cell_type": "code",
   "execution_count": null,
   "metadata": {},
   "outputs": [],
   "source": [
    "import datetime as dt\n",
    "t=dt.datetime.strptime(\"30Nov00\", \"%d%b%y\")\n",
    "now=dt.datetime.now()\n",
    "now.toordinal()\n"
   ]
  },
  {
   "cell_type": "code",
   "execution_count": null,
   "metadata": {},
   "outputs": [],
   "source": [
    "# candlestick2_ohlc takes individual parameters for O, H, L C lists\n",
    "from mpl_finance import candlestick_ohlc\n",
    "fig, ax1 = plt.subplots()\n",
    "# fin.candlestick2_ohlc(ax1, d['open']['GM'], d['high']['GM'], d['low']['GM'], d['close']['GM'], width=4, colorup='g', colordown='r', alpha=0.75)\n",
    "# fin.candlestick2_ohlc(ax1, d['open'], d['high'], d['low'], d['close'], width=4, colorup='g', colordown='r', alpha=0.75)\n",
    "d\n",
    "# nd=d['GM'].values\n",
    "# print(nd.shape)\n",
    "candlestick_ohlc(ax1, f.values)\n",
    "plt.show()\n",
    "f\n",
    "#\n",
    "# \n",
    "# fin.candlestick2_ohlc(ax1,d['GM'].values)"
   ]
  },
  {
   "cell_type": "code",
   "execution_count": null,
   "metadata": {},
   "outputs": [],
   "source": [
    "d.index"
   ]
  },
  {
   "cell_type": "code",
   "execution_count": null,
   "metadata": {
    "scrolled": true
   },
   "outputs": [],
   "source": [
    "# candlestick2_ohlc takes individual parameters for O, H, L C lists\n",
    "import io\n",
    "import datetime as dt\n",
    "from pandas_datareader.iex.daily import IEXDailyReader\n",
    "import matplotlib.pyplot as plt\n",
    "from mpl_finance import candlestick_ohlc\n",
    "from matplotlib.dates import date2num, DayLocator, MonthLocator, DateFormatter\n",
    "import pandas as pd\n",
    "\n",
    "symbols = ['GM', 'IBM', 'TSLA','AAPL', 'GOOG', 'MSFT','ZNGA', 'VIXY']\n",
    "start = dt.datetime(2017, 9, 10)\n",
    "end = dt.datetime(2018, 8, 25)\n",
    "dr=IEXDailyReader(symbols,start=start,end=end, api_key=IEX_token)\n",
    "d=dr.read()\n",
    "\n",
    "# Now swap the column label levels permanently\n",
    "d.columns = d.columns.swaplevel(0, 1)\n",
    "d.sort_index(1, inplace=True)\n",
    "\n",
    "dd=d['GM'].reset_index()\n",
    "dd['date'] = date2num(pd.to_datetime(dd['date']).tolist())\n",
    "\n",
    "plt.rcParams['figure.figsize'] = [15, 9]\n",
    "fig, ax=plt.subplots()\n",
    "candlestick_ohlc(ax, dd.values,colorup='green', colordown='red')\n",
    "ax.xaxis.set_major_locator(MonthLocator())\n",
    "ax.xaxis.set_major_formatter(DateFormatter('%d-%b-%y'))\n",
    "plt.xticks(rotation=45)\n",
    "plt.show()"
   ]
  },
  {
   "cell_type": "code",
   "execution_count": null,
   "metadata": {
    "scrolled": false
   },
   "outputs": [],
   "source": [
    "# Now try to re-sample (down-sample) from daily to monthly, and to synthesise OHLC\n",
    "d.index = pd.to_datetime(d.index)\n",
    "dw=d['GM']\n",
    "# Create new df for resample - 'M' Monthly but also intra-day, quarterly, weekly etc.\n",
    "dx=pd.DataFrame()\n",
    "dx['Open']=dw['open'].resample('M').first()\n",
    "dx['High']=dw['high'].resample('M').max()\n",
    "dx['Low'] =dw['low'].resample('M').min()\n",
    "dx['Close']=dw['close'].resample('M').last()\n",
    "\n",
    "# print(dx)\n",
    "dx=dx.reset_index()\n",
    "dx['date'] = date2num(pd.to_datetime(dx['date']).tolist())\n",
    "\n",
    "plt.rcParams['figure.figsize'] = [15, 9]\n",
    "fig, ax=plt.subplots()\n",
    "candlestick_ohlc(ax, dx.values,width=4,colorup='green', colordown='red')\n",
    "ax.xaxis.set_major_locator(MonthLocator())\n",
    "ax.xaxis.set_major_formatter(DateFormatter('%d%b%y'))\n",
    "plt.xticks(rotation=45)\n",
    "plt.show()"
   ]
  },
  {
   "cell_type": "code",
   "execution_count": null,
   "metadata": {},
   "outputs": [],
   "source": [
    "dx.first()"
   ]
  },
  {
   "cell_type": "code",
   "execution_count": null,
   "metadata": {},
   "outputs": [],
   "source": [
    "d['GM']['close'].max()"
   ]
  },
  {
   "cell_type": "code",
   "execution_count": null,
   "metadata": {},
   "outputs": [],
   "source": [
    "d[where d['']]"
   ]
  },
  {
   "cell_type": "code",
   "execution_count": null,
   "metadata": {},
   "outputs": [],
   "source": []
  },
  {
   "cell_type": "code",
   "execution_count": null,
   "metadata": {},
   "outputs": [],
   "source": [
    "from pandas_datareader.iex.daily import IEXDailyReader\n",
    "import pandas as pd\n",
    "import datetime as dt\n",
    "IEX_token='sk_50446876d4364cc8b218b298207a8e8f'\n",
    "# symbols = ['GM', 'TSLA','AAPL', 'GOOG', 'MSFT','ZNGA', 'VIXY', 'SPY']\n",
    "symbols = ['DCOILWTICO']\n",
    "\n",
    "start = dt.datetime(2017, 5, 4)\n",
    "end = dt.datetime(2019, 8, 25)\n",
    "# get OHLCV from iex (no more yahoo or google stock prices anymore)\n",
    "# Idiosyncrasy of DataReader is that the top level of column labels is OHLCV, and second level is TICKER\n",
    "# .iex.daily.IEXDailyReader\n",
    "# d=web.DataReader(\"AAPL\",'iex',start, api_key=IEX_token)\n",
    "# d=web.DataReader(\"AAPL\", 'iex', start=start, end=end, access_key=IEX_token)\n",
    "# web.IEXDailyReader()\n",
    "# web.pandas_datareader.\n",
    "dr=IEXDailyReader('DCOILWTICO',start=start,end=end, api_key=IEX_token)\n",
    "d=dr.read()"
   ]
  },
  {
   "cell_type": "code",
   "execution_count": null,
   "metadata": {},
   "outputs": [],
   "source": []
  }
 ],
 "metadata": {
  "kernelspec": {
   "display_name": "py37",
   "language": "python",
   "name": "py37"
  },
  "language_info": {
   "codemirror_mode": {
    "name": "ipython",
    "version": 3
   },
   "file_extension": ".py",
   "mimetype": "text/x-python",
   "name": "python",
   "nbconvert_exporter": "python",
   "pygments_lexer": "ipython3",
   "version": "3.7.1"
  }
 },
 "nbformat": 4,
 "nbformat_minor": 2
}
